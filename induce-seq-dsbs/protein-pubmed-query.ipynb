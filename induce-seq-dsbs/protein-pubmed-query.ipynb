{
 "cells": [
  {
   "cell_type": "code",
   "execution_count": 4,
   "metadata": {},
   "outputs": [
    {
     "name": "stdout",
     "output_type": "stream",
     "text": [
      "          Protein  Article Count\n",
      "0  CTC1-STN1-TEN1             90\n",
      "1            Pif1            504\n",
      "2        hnRNP A1            899\n",
      "3            POT1            900\n",
      "4             CST           6400\n",
      "5             RPA           6671\n",
      "6           BRCA1          22819\n"
     ]
    }
   ],
   "source": [
    "from Bio import Entrez\n",
    "import pandas as pd\n",
    "\n",
    "Entrez.email = 'chee.el@northeastern.edu'\n",
    "\n",
    "def get_article_count(protein_name):\n",
    "    '''\n",
    "    Query PubMed for the number of articles associated with a given protein using both MeSH terms and text words.\n",
    "    '''\n",
    "    term = f'{protein_name}[MeSH Terms] OR {protein_name}[tw]'\n",
    "    handle = Entrez.esearch(db='pubmed', term=term)\n",
    "    record = Entrez.read(handle)\n",
    "    handle.close()\n",
    "    return int(record['Count'])\n",
    "\n",
    "def query_pubmed(proteins):\n",
    "    '''\n",
    "    Query PubMed for a list of proteins and return a sorted list of proteins \n",
    "    and the number of associated articles.\n",
    "    '''\n",
    "    protein_article_counts = []\n",
    "    for protein in proteins:\n",
    "        count = get_article_count(protein)\n",
    "        protein_article_counts.append((protein, count))\n",
    "    \n",
    "    # sort list smallest to largest\n",
    "    protein_article_counts.sort(key=lambda x: x[1])\n",
    "    \n",
    "    return protein_article_counts\n",
    "\n",
    "def main(list_proteins):\n",
    "    # sorted list of proteins and their associated article counts\n",
    "    sorted_protein_article_counts = query_pubmed(list_proteins)\n",
    "\n",
    "    # convert to dataframe\n",
    "    df = pd.DataFrame(sorted_protein_article_counts, columns=['Protein', 'Article Count'])\n",
    "    print(df)\n",
    "\n",
    "# list of proteins to query\n",
    "proteins = ['POT1', 'RPA', 'CST', 'CTC1-STN1-TEN1', 'BRCA1', 'hnRNP A1', 'Pif1']\n",
    "\n",
    "main(proteins)"
   ]
  }
 ],
 "metadata": {
  "kernelspec": {
   "display_name": "Python 3",
   "language": "python",
   "name": "python3"
  },
  "language_info": {
   "codemirror_mode": {
    "name": "ipython",
    "version": 3
   },
   "file_extension": ".py",
   "mimetype": "text/x-python",
   "name": "python",
   "nbconvert_exporter": "python",
   "pygments_lexer": "ipython3",
   "version": "3.11.9"
  }
 },
 "nbformat": 4,
 "nbformat_minor": 2
}
