{
 "cells": [
  {
   "cell_type": "code",
   "execution_count": 2,
   "id": "8c3e02db",
   "metadata": {},
   "outputs": [],
   "source": [
    "# imports\n",
    "import gffpandas.gffpandas as gffpd\n",
    "from pybedtools import BedTool \n",
    "import pybedtools\n",
    "import pandas as pd"
   ]
  },
  {
   "cell_type": "code",
   "execution_count": 6,
   "id": "01b4dee7-c864-49e7-bcfd-7f6c27cd78d1",
   "metadata": {},
   "outputs": [],
   "source": [
    "def ann2df(file):\n",
    "    '''convert annotations gff file to dataframe'''\n",
    "    annotations = gffpd.read_gff3(file)\n",
    "    sorted = annotations.df.sort_values(by=\"type\")\n",
    "    sorted['seq_id'] = sorted['seq_id'].str.replace('CHROMOSOME_', 'chr')\n",
    "    return sorted"
   ]
  },
  {
   "cell_type": "code",
   "execution_count": 7,
   "id": "3652ea7b",
   "metadata": {},
   "outputs": [
    {
     "name": "stderr",
     "output_type": "stream",
     "text": [
      "/usr/local/lib/python3.10/dist-packages/gffpandas/gffpandas.py:32: DtypeWarning: Columns (5,7) have mixed types. Specify dtype option on import or set low_memory=False.\n",
      "  self.df = pd.read_table(self._gff_file, comment='#',\n"
     ]
    }
   ],
   "source": [
    "sort_by_type = ann2df('../c_elegans/annotations.gff3')"
   ]
  },
  {
   "cell_type": "code",
   "execution_count": 8,
   "id": "a3573581",
   "metadata": {},
   "outputs": [
    {
     "data": {
      "text/html": [
       "<div>\n",
       "<style scoped>\n",
       "    .dataframe tbody tr th:only-of-type {\n",
       "        vertical-align: middle;\n",
       "    }\n",
       "\n",
       "    .dataframe tbody tr th {\n",
       "        vertical-align: top;\n",
       "    }\n",
       "\n",
       "    .dataframe thead th {\n",
       "        text-align: right;\n",
       "    }\n",
       "</style>\n",
       "<table border=\"1\" class=\"dataframe\">\n",
       "  <thead>\n",
       "    <tr style=\"text-align: right;\">\n",
       "      <th></th>\n",
       "      <th>seq_id</th>\n",
       "      <th>source</th>\n",
       "      <th>type</th>\n",
       "      <th>start</th>\n",
       "      <th>end</th>\n",
       "      <th>score</th>\n",
       "      <th>strand</th>\n",
       "      <th>phase</th>\n",
       "      <th>attributes</th>\n",
       "    </tr>\n",
       "  </thead>\n",
       "  <tbody>\n",
       "    <tr>\n",
       "      <th>11995885</th>\n",
       "      <td>chrIII</td>\n",
       "      <td>Mos_insertion_allele</td>\n",
       "      <td>transposable_element_insertion_site</td>\n",
       "      <td>3285231</td>\n",
       "      <td>3285232</td>\n",
       "      <td>.</td>\n",
       "      <td>-</td>\n",
       "      <td>.</td>\n",
       "      <td>public_name=ttTi3826;variation=WBVar00254241</td>\n",
       "    </tr>\n",
       "    <tr>\n",
       "      <th>11995884</th>\n",
       "      <td>chrV</td>\n",
       "      <td>Mos_insertion_allele</td>\n",
       "      <td>transposable_element_insertion_site</td>\n",
       "      <td>18326120</td>\n",
       "      <td>18326121</td>\n",
       "      <td>.</td>\n",
       "      <td>-</td>\n",
       "      <td>.</td>\n",
       "      <td>public_name=ttTi38261;variation=WBVar00263214</td>\n",
       "    </tr>\n",
       "    <tr>\n",
       "      <th>11995883</th>\n",
       "      <td>chrV</td>\n",
       "      <td>Mos_insertion_allele</td>\n",
       "      <td>transposable_element_insertion_site</td>\n",
       "      <td>11272893</td>\n",
       "      <td>11272894</td>\n",
       "      <td>.</td>\n",
       "      <td>-</td>\n",
       "      <td>.</td>\n",
       "      <td>public_name=ttTi38260;variation=WBVar00263213</td>\n",
       "    </tr>\n",
       "    <tr>\n",
       "      <th>11995896</th>\n",
       "      <td>chrIII</td>\n",
       "      <td>Mos_insertion_allele</td>\n",
       "      <td>transposable_element_insertion_site</td>\n",
       "      <td>6973626</td>\n",
       "      <td>6973627</td>\n",
       "      <td>.</td>\n",
       "      <td>-</td>\n",
       "      <td>.</td>\n",
       "      <td>public_name=ttTi38308;variation=WBVar00263223</td>\n",
       "    </tr>\n",
       "    <tr>\n",
       "      <th>11993202</th>\n",
       "      <td>chrII</td>\n",
       "      <td>Mos_insertion_allele</td>\n",
       "      <td>transposable_element_insertion_site</td>\n",
       "      <td>14013509</td>\n",
       "      <td>14013510</td>\n",
       "      <td>.</td>\n",
       "      <td>-</td>\n",
       "      <td>.</td>\n",
       "      <td>public_name=ttTi31278;variation=WBVar00260834</td>\n",
       "    </tr>\n",
       "  </tbody>\n",
       "</table>\n",
       "</div>"
      ],
      "text/plain": [
       "          seq_id                source                                 type  \\\n",
       "11995885  chrIII  Mos_insertion_allele  transposable_element_insertion_site   \n",
       "11995884    chrV  Mos_insertion_allele  transposable_element_insertion_site   \n",
       "11995883    chrV  Mos_insertion_allele  transposable_element_insertion_site   \n",
       "11995896  chrIII  Mos_insertion_allele  transposable_element_insertion_site   \n",
       "11993202   chrII  Mos_insertion_allele  transposable_element_insertion_site   \n",
       "\n",
       "             start       end score strand phase  \\\n",
       "11995885   3285231   3285232     .      -     .   \n",
       "11995884  18326120  18326121     .      -     .   \n",
       "11995883  11272893  11272894     .      -     .   \n",
       "11995896   6973626   6973627     .      -     .   \n",
       "11993202  14013509  14013510     .      -     .   \n",
       "\n",
       "                                             attributes  \n",
       "11995885   public_name=ttTi3826;variation=WBVar00254241  \n",
       "11995884  public_name=ttTi38261;variation=WBVar00263214  \n",
       "11995883  public_name=ttTi38260;variation=WBVar00263213  \n",
       "11995896  public_name=ttTi38308;variation=WBVar00263223  \n",
       "11993202  public_name=ttTi31278;variation=WBVar00260834  "
      ]
     },
     "execution_count": 8,
     "metadata": {},
     "output_type": "execute_result"
    }
   ],
   "source": [
    "sort_by_type.tail()"
   ]
  },
  {
   "cell_type": "code",
   "execution_count": 15,
   "id": "7619d35e-e678-434e-80e4-2f08547d8a61",
   "metadata": {},
   "outputs": [
    {
     "data": {
      "text/plain": [
       "array(['CDS', 'EST_match', 'PCR_product', 'RNAi_reagent', 'SAGE_tag',\n",
       "       'SNP', 'binding_site', 'cDNA_match', 'chromosome',\n",
       "       'clone_insert_end', 'clone_insert_start', 'complex_substitution',\n",
       "       'deletion', 'exon', 'experimental_result_region',\n",
       "       'expressed_sequence_match', 'five_prime_UTR', 'gene', 'insertion',\n",
       "       'intron', 'inverted_repeat', 'mRNA', 'ncRNA', 'nucleotide_match',\n",
       "       'oligo', 'operon', 'polyA_signal_sequence', 'polyA_site',\n",
       "       'protein_match', 'pseudogene', 'reagent', 'region',\n",
       "       'repeat_region', 'substitution', 'tandem_repeat',\n",
       "       'three_prime_UTR', 'trans_splice_acceptor_site',\n",
       "       'translated_nucleotide_match', 'transposable_element',\n",
       "       'transposable_element_insertion_site'], dtype=object)"
      ]
     },
     "execution_count": 15,
     "metadata": {},
     "output_type": "execute_result"
    }
   ],
   "source": [
    "sort_by_type['type'].unique()"
   ]
  },
  {
   "cell_type": "code",
   "execution_count": 3,
   "id": "74ed31e4",
   "metadata": {},
   "outputs": [],
   "source": [
    "# GET PROMOTER BED\n",
    "# load CSV file containing TSS\n",
    "input_csv = 'all-tss-saito.csv'\n",
    "df = pd.read_csv(input_csv)\n",
    "\n",
    "# process the data\n",
    "df['type'] = 'promoter'\n",
    "df['start'] = df['start position'] - 1000\n",
    "df['end'] = df['start position']\n",
    "\n",
    "# ensure the start position is not less than 0\n",
    "df.loc[df['start'] < 0, 'start'] = 0\n",
    "\n",
    "# select the required columns\n",
    "tss_bed_df = df[['chr', 'start', 'end']]\n",
    "\n",
    "# save to a BED file\n",
    "output_bed = 'c-elegans-promoter-saito.bed'\n",
    "#tss_bed_df.to_csv(output_bed, sep='\\t', header=False, index=False)"
   ]
  },
  {
   "cell_type": "code",
   "execution_count": 4,
   "id": "29b21949",
   "metadata": {},
   "outputs": [],
   "source": [
    "# GET TSS BED\n",
    "# load CSV file containing TSS\n",
    "input_csv = 'all-tss-saito.csv'\n",
    "df = pd.read_csv(input_csv)\n",
    "\n",
    "# process the data\n",
    "df['type'] = 'tss'\n",
    "df['start'] = df['start position'] - 1000\n",
    "df['end'] = df['start position'] + 1000\n",
    "\n",
    "# ensure the start position is not less than 0\n",
    "df.loc[df['start'] < 0, 'start'] = 0\n",
    "\n",
    "# select the required columns\n",
    "#transcription_start_site_bed_df = df[['chr', 'start', 'end']]\n",
    "\n",
    "# save to a BED file\n",
    "output_bed = 'c-elegans-tss-saito.bed'\n",
    "#transcription_start_site_bed_df.to_csv(output_bed, sep='\\t', header=False, index=False)"
   ]
  },
  {
   "cell_type": "code",
   "execution_count": 22,
   "id": "705dfbde-54a9-4959-9fdd-cfd553220bdb",
   "metadata": {},
   "outputs": [],
   "source": [
    "# GET INTRON BED\n",
    "df = sort_by_type[sort_by_type.type=='intron']\n",
    "intron_bed_df = df[['seq_id', 'start', 'end']]\n",
    "\n",
    "output_bed = 'c-elegans-intron.bed'\n",
    "#intron_bed_df.to_csv(output_bed, sep='\\t', header=False, index=False)"
   ]
  },
  {
   "cell_type": "code",
   "execution_count": 23,
   "id": "0d292917-f991-41e2-a210-1bfc241eba67",
   "metadata": {},
   "outputs": [],
   "source": [
    "# GET EXON BED\n",
    "df = sort_by_type[sort_by_type.type=='exon']\n",
    "exon_bed_df = df[['seq_id', 'start', 'end']]\n",
    "\n",
    "output_bed = 'c-elegans-exon.bed'\n",
    "#exon_bed_df.to_csv(output_bed, sep='\\t', header=False, index=False)"
   ]
  },
  {
   "cell_type": "code",
   "execution_count": 24,
   "id": "a8df8da9-f065-4455-b3fa-22e2634ba0fa",
   "metadata": {},
   "outputs": [],
   "source": [
    "d# GET CDS BED\n",
    "f = sort_by_type[sort_by_type.type=='CDS']\n",
    "cds_bed_df = df[['seq_id', 'start', 'end']]\n",
    "\n",
    "output_bed = 'c-elegans-cds.bed'\n",
    "#cds_bed_df.to_csv(output_bed, sep='\\t', header=False, index=False)"
   ]
  },
  {
   "cell_type": "code",
   "execution_count": 25,
   "id": "9601ac15-5efe-4d31-81ae-adae62b90247",
   "metadata": {},
   "outputs": [],
   "source": [
    "# GET GENE BED\n",
    "df = sort_by_type[sort_by_type.type=='gene']\n",
    "gene_bed_df = df[['seq_id', 'start', 'end']]\n",
    "\n",
    "output_bed = 'c-elegans-genes.bed'\n",
    "#gene_bed_df.to_csv(output_bed, sep='\\t', header=False, index=False)"
   ]
  },
  {
   "cell_type": "code",
   "execution_count": 16,
   "id": "56ea7913-8d75-413f-975f-321a39763e03",
   "metadata": {},
   "outputs": [],
   "source": [
    "# GET 5' UTR BED\n",
    "df = sort_by_type[sort_by_type.type=='five_prime_UTR']\n",
    "five_prime_utr_bed_df = df[['seq_id', 'start', 'end']]\n",
    "\n",
    "output_bed = 'c-elegans-five-prime-utr.bed'\n",
    "#five_prime_utr_bed_df.to_csv(output_bed, sep='\\t', header=False, index=False)"
   ]
  },
  {
   "cell_type": "code",
   "execution_count": 17,
   "id": "98d8e30b-d52f-46fd-b9d3-8ed96ce52443",
   "metadata": {},
   "outputs": [],
   "source": [
    "# GET 3' UTR BED\n",
    "df = sort_by_type[sort_by_type.type=='three_prime_UTR']\n",
    "three_prime_utr_bed_df = df[['seq_id', 'start', 'end']]\n",
    "\n",
    "output_bed = 'c-elegans-three-prime-utr.bed'\n",
    "#three_prime_utr_bed_df.to_csv(output_bed, sep='\\t', header=False, index=False)"
   ]
  },
  {
   "cell_type": "code",
   "execution_count": 18,
   "id": "b1d7f220-d200-4007-96da-ee863ac5acd2",
   "metadata": {},
   "outputs": [],
   "source": [
    "# GET mRNA BED\n",
    "df = sort_by_type[sort_by_type.type=='mRNA']\n",
    "mrna_bed_df = df[['seq_id', 'start', 'end']]\n",
    "\n",
    "output_bed = 'c-elegans-mrna.bed'\n",
    "#mrna_bed_df.to_csv(output_bed, sep='\\t', header=False, index=False)"
   ]
  },
  {
   "cell_type": "code",
   "execution_count": 19,
   "id": "000df88b-0f43-4ad7-963c-5f6eae520d33",
   "metadata": {},
   "outputs": [],
   "source": [
    "# GET ncRNA BED\n",
    "df = sort_by_type[sort_by_type.type=='ncRNA']\n",
    "ncrna_bed_df = df[['seq_id', 'start', 'end']]\n",
    "\n",
    "output_bed = 'c-elegans-ncrna.bed'\n",
    "#ncrna_bed_df.to_csv(output_bed, sep='\\t', header=False, index=False)"
   ]
  }
 ],
 "metadata": {
  "kernelspec": {
   "display_name": "Python 3 (ipykernel)",
   "language": "python",
   "name": "python3"
  },
  "language_info": {
   "codemirror_mode": {
    "name": "ipython",
    "version": 3
   },
   "file_extension": ".py",
   "mimetype": "text/x-python",
   "name": "python",
   "nbconvert_exporter": "python",
   "pygments_lexer": "ipython3",
   "version": "3.11.5"
  }
 },
 "nbformat": 4,
 "nbformat_minor": 5
}
