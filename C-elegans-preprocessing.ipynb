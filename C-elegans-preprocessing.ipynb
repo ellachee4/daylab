{
 "cells": [
  {
   "cell_type": "code",
   "execution_count": 4,
   "id": "8c3e02db",
   "metadata": {},
   "outputs": [],
   "source": [
    "# imports\n",
    "import gffpandas.gffpandas as gffpd\n",
    "from pybedtools import BedTool \n",
    "import pybedtools\n",
    "import pandas as pd"
   ]
  },
  {
   "cell_type": "code",
   "execution_count": 5,
   "id": "01b4dee7-c864-49e7-bcfd-7f6c27cd78d1",
   "metadata": {},
   "outputs": [],
   "source": [
    "def ann2df(file):\n",
    "    '''convert annotations gff file to dataframe'''\n",
    "    annotations = gffpd.read_gff3(file)\n",
    "    sorted = annotations.df.sort_values(by=\"type\")\n",
    "    sorted['seq_id'] = sorted['seq_id'].str.replace('CHROMOSOME_', 'chr')\n",
    "    return sorted"
   ]
  },
  {
   "cell_type": "code",
   "execution_count": 6,
   "id": "3652ea7b",
   "metadata": {},
   "outputs": [
    {
     "name": "stderr",
     "output_type": "stream",
     "text": [
      "/Users/nutellachee/anaconda3/lib/python3.11/site-packages/gffpandas/gffpandas.py:32: DtypeWarning: Columns (5) have mixed types. Specify dtype option on import or set low_memory=False.\n",
      "  self.df = pd.read_table(self._gff_file, comment='#',\n"
     ]
    }
   ],
   "source": [
    "sort_by_type = ann2df('/Users/nutellachee/Downloads/c_elegans.canonical_bioproject.current.annotations.gff3')"
   ]
  },
  {
   "cell_type": "code",
   "execution_count": 7,
   "id": "a3573581",
   "metadata": {},
   "outputs": [
    {
     "data": {
      "text/html": [
       "<div>\n",
       "<style scoped>\n",
       "    .dataframe tbody tr th:only-of-type {\n",
       "        vertical-align: middle;\n",
       "    }\n",
       "\n",
       "    .dataframe tbody tr th {\n",
       "        vertical-align: top;\n",
       "    }\n",
       "\n",
       "    .dataframe thead th {\n",
       "        text-align: right;\n",
       "    }\n",
       "</style>\n",
       "<table border=\"1\" class=\"dataframe\">\n",
       "  <thead>\n",
       "    <tr style=\"text-align: right;\">\n",
       "      <th></th>\n",
       "      <th>seq_id</th>\n",
       "      <th>source</th>\n",
       "      <th>type</th>\n",
       "      <th>start</th>\n",
       "      <th>end</th>\n",
       "      <th>score</th>\n",
       "      <th>strand</th>\n",
       "      <th>phase</th>\n",
       "      <th>attributes</th>\n",
       "    </tr>\n",
       "  </thead>\n",
       "  <tbody>\n",
       "    <tr>\n",
       "      <th>23684894</th>\n",
       "      <td>III</td>\n",
       "      <td>Allele</td>\n",
       "      <td>transposable_element_insertion_site</td>\n",
       "      <td>13055117</td>\n",
       "      <td>13055117</td>\n",
       "      <td>.</td>\n",
       "      <td>-</td>\n",
       "      <td>.</td>\n",
       "      <td>variation=WBVar00240129;public_name=pkP510;str...</td>\n",
       "    </tr>\n",
       "    <tr>\n",
       "      <th>35624054</th>\n",
       "      <td>V</td>\n",
       "      <td>NemaGENETAG_consortium</td>\n",
       "      <td>transposable_element_insertion_site</td>\n",
       "      <td>1927892</td>\n",
       "      <td>1927892</td>\n",
       "      <td>.</td>\n",
       "      <td>+</td>\n",
       "      <td>.</td>\n",
       "      <td>variation=WBVar00264011;public_name=ttTi41084;...</td>\n",
       "    </tr>\n",
       "    <tr>\n",
       "      <th>49151074</th>\n",
       "      <td>X</td>\n",
       "      <td>NemaGENETAG_consortium</td>\n",
       "      <td>transposable_element_insertion_site</td>\n",
       "      <td>9520583</td>\n",
       "      <td>9520583</td>\n",
       "      <td>.</td>\n",
       "      <td>+</td>\n",
       "      <td>.</td>\n",
       "      <td>variation=WBVar00261886;public_name=ttTi34859;...</td>\n",
       "    </tr>\n",
       "    <tr>\n",
       "      <th>14571986</th>\n",
       "      <td>II</td>\n",
       "      <td>NemaGENETAG_consortium</td>\n",
       "      <td>transposable_element_insertion_site</td>\n",
       "      <td>10944970</td>\n",
       "      <td>10944970</td>\n",
       "      <td>.</td>\n",
       "      <td>+</td>\n",
       "      <td>.</td>\n",
       "      <td>variation=WBVar00254572;public_name=ttTi4529;s...</td>\n",
       "    </tr>\n",
       "    <tr>\n",
       "      <th>28540411</th>\n",
       "      <td>IV</td>\n",
       "      <td>NemaGENETAG_consortium</td>\n",
       "      <td>transposable_element_insertion_site</td>\n",
       "      <td>7074863</td>\n",
       "      <td>7074863</td>\n",
       "      <td>.</td>\n",
       "      <td>+</td>\n",
       "      <td>.</td>\n",
       "      <td>variation=WBVar00258300;public_name=ttTi18910;...</td>\n",
       "    </tr>\n",
       "  </tbody>\n",
       "</table>\n",
       "</div>"
      ],
      "text/plain": [
       "         seq_id                  source                                 type  \\\n",
       "23684894    III                  Allele  transposable_element_insertion_site   \n",
       "35624054      V  NemaGENETAG_consortium  transposable_element_insertion_site   \n",
       "49151074      X  NemaGENETAG_consortium  transposable_element_insertion_site   \n",
       "14571986     II  NemaGENETAG_consortium  transposable_element_insertion_site   \n",
       "28540411     IV  NemaGENETAG_consortium  transposable_element_insertion_site   \n",
       "\n",
       "             start       end score strand phase  \\\n",
       "23684894  13055117  13055117     .      -     .   \n",
       "35624054   1927892   1927892     .      +     .   \n",
       "49151074   9520583   9520583     .      +     .   \n",
       "14571986  10944970  10944970     .      +     .   \n",
       "28540411   7074863   7074863     .      +     .   \n",
       "\n",
       "                                                 attributes  \n",
       "23684894  variation=WBVar00240129;public_name=pkP510;str...  \n",
       "35624054  variation=WBVar00264011;public_name=ttTi41084;...  \n",
       "49151074  variation=WBVar00261886;public_name=ttTi34859;...  \n",
       "14571986  variation=WBVar00254572;public_name=ttTi4529;s...  \n",
       "28540411  variation=WBVar00258300;public_name=ttTi18910;...  "
      ]
     },
     "execution_count": 7,
     "metadata": {},
     "output_type": "execute_result"
    }
   ],
   "source": [
    "sort_by_type.tail()"
   ]
  },
  {
   "cell_type": "code",
   "execution_count": 8,
   "id": "7619d35e-e678-434e-80e4-2f08547d8a61",
   "metadata": {},
   "outputs": [
    {
     "data": {
      "text/plain": [
       "array(['CDS', 'DNaseI_hypersensitive_site', 'G_quartet', 'PCR_product',\n",
       "       'RNAi_reagent', 'SAGE_tag', 'SL1_acceptor_site',\n",
       "       'SL2_acceptor_site', 'SNP', 'TF_binding_site', 'TSS_region',\n",
       "       'antisense_RNA', 'assembly_component',\n",
       "       'base_call_error_correction', 'binding_site', 'biological_region',\n",
       "       'circular_ncRNA', 'complex_substitution', 'conserved_region',\n",
       "       'deletion', 'duplication', 'enhancer', 'exon',\n",
       "       'experimental_result_region', 'expressed_sequence_match',\n",
       "       'five_prime_UTR', 'gene', 'histone_binding_site', 'insertion_site',\n",
       "       'intron', 'inverted_repeat', 'lincRNA', 'low_complexity_region',\n",
       "       'mRNA', 'mRNA_region', 'miRNA', 'miRNA_primary_transcript',\n",
       "       'ncRNA', 'nc_primary_transcript', 'nucleotide_match', 'operon',\n",
       "       'piRNA', 'point_mutation', 'polyA_signal_sequence', 'polyA_site',\n",
       "       'polypeptide_motif', 'possible_base_call_error', 'pre_miRNA',\n",
       "       'promoter', 'protein_coding_primary_transcript', 'protein_match',\n",
       "       'pseudogenic_rRNA', 'pseudogenic_tRNA', 'pseudogenic_transcript',\n",
       "       'rRNA', 'reagent', 'regulatory_region', 'repeat_region', 'scRNA',\n",
       "       'sequence_alteration', 'snRNA', 'snoRNA', 'substitution', 'tRNA',\n",
       "       'tandem_duplication', 'tandem_repeat', 'three_prime_UTR',\n",
       "       'transcribed_fragment', 'transcript_region',\n",
       "       'transcription_end_site', 'translated_nucleotide_match',\n",
       "       'transposable_element', 'transposable_element_insertion_site'],\n",
       "      dtype=object)"
      ]
     },
     "execution_count": 8,
     "metadata": {},
     "output_type": "execute_result"
    }
   ],
   "source": [
    "sort_by_type['type'].unique()"
   ]
  },
  {
   "cell_type": "code",
   "execution_count": 10,
   "id": "5c9f9f84",
   "metadata": {},
   "outputs": [
    {
     "data": {
      "text/plain": [
       "seq_id\n",
       "IV       10965377\n",
       "V         9949289\n",
       "II        9482996\n",
       "X         8010681\n",
       "I         7692388\n",
       "III       7068678\n",
       "MtDNA       55125\n",
       "Name: count, dtype: int64"
      ]
     },
     "execution_count": 10,
     "metadata": {},
     "output_type": "execute_result"
    }
   ],
   "source": [
    "sort_by_type['seq_id'].value_counts(dropna=False) "
   ]
  },
  {
   "cell_type": "code",
   "execution_count": 12,
   "id": "4b6390a3",
   "metadata": {},
   "outputs": [
    {
     "data": {
      "text/plain": [
       "seq_id\n",
       "chrIV     10965377\n",
       "chrV       9949289\n",
       "chrII      9482996\n",
       "chrX       8010681\n",
       "chrI       7692388\n",
       "chrIII     7068678\n",
       "chrM         55125\n",
       "Name: count, dtype: int64"
      ]
     },
     "execution_count": 12,
     "metadata": {},
     "output_type": "execute_result"
    }
   ],
   "source": [
    "# rename each chromosome (seq_id) to match bed file in peaks\n",
    "sort_by_type.loc[sort_by_type['seq_id'] == 'I', 'seq_id'] = 'chrI'\n",
    "sort_by_type.loc[sort_by_type['seq_id'] == 'II', 'seq_id'] = 'chrII'\n",
    "sort_by_type.loc[sort_by_type['seq_id'] == 'III', 'seq_id'] = 'chrIII'\n",
    "sort_by_type.loc[sort_by_type['seq_id'] == 'IV', 'seq_id'] = 'chrIV'\n",
    "sort_by_type.loc[sort_by_type['seq_id'] == 'V', 'seq_id'] = 'chrV'\n",
    "sort_by_type.loc[sort_by_type['seq_id'] == 'MtDNA', 'seq_id'] = 'chrM'\n",
    "sort_by_type.loc[sort_by_type['seq_id'] == 'X', 'seq_id'] = 'chrX'\n",
    "\n",
    "# confirm renaming\n",
    "sort_by_type['seq_id'].value_counts(dropna=False) "
   ]
  },
  {
   "cell_type": "code",
   "execution_count": 16,
   "id": "3c9121ac",
   "metadata": {},
   "outputs": [],
   "source": [
    "# CONSTRUCT BED FILES FOR ce11 DATA\n",
    "types = ['CDS', 'TSS_region', 'exon', 'five_prime_UTR', 'gene', 'intron', 'lincRNA', 'miRNA', 'ncRNA', 'promoter', 'three_prime_UTR']\n",
    "def construct_beds(types):\n",
    "    for type in types:\n",
    "        df = sort_by_type[sort_by_type.type==type]\n",
    "        df = df[['seq_id', 'start', 'end']]\n",
    "        #df['seq_id'] = 'chr' + df['seq_id'].astype(str)\n",
    "        output_bed = f'ce-11-beds/c-elegans-11-{type}.bed'\n",
    "        df.to_csv(output_bed, sep='\\t', header=False, index=False)\n",
    "\n",
    "construct_beds(types)"
   ]
  },
  {
   "cell_type": "code",
   "execution_count": null,
   "id": "705dfbde-54a9-4959-9fdd-cfd553220bdb",
   "metadata": {},
   "outputs": [],
   "source": [
    "# GET INTRON BED\n",
    "df = sort_by_type[sort_by_type.type=='intron']\n",
    "intron_bed_df = df[['seq_id', 'start', 'end']]\n",
    "\n",
    "output_bed = 'c-elegans-intron.bed'\n",
    "#intron_bed_df.to_csv(output_bed, sep='\\t', header=False, index=False)"
   ]
  },
  {
   "cell_type": "code",
   "execution_count": 23,
   "id": "0d292917-f991-41e2-a210-1bfc241eba67",
   "metadata": {},
   "outputs": [],
   "source": [
    "# GET EXON BED\n",
    "df = sort_by_type[sort_by_type.type=='exon']\n",
    "exon_bed_df = df[['seq_id', 'start', 'end']]\n",
    "\n",
    "output_bed = 'c-elegans-exon.bed'\n",
    "#exon_bed_df.to_csv(output_bed, sep='\\t', header=False, index=False)"
   ]
  },
  {
   "cell_type": "code",
   "execution_count": 24,
   "id": "a8df8da9-f065-4455-b3fa-22e2634ba0fa",
   "metadata": {},
   "outputs": [],
   "source": [
    "d# GET CDS BED\n",
    "f = sort_by_type[sort_by_type.type=='CDS']\n",
    "cds_bed_df = df[['seq_id', 'start', 'end']]\n",
    "\n",
    "output_bed = 'c-elegans-cds.bed'\n",
    "#cds_bed_df.to_csv(output_bed, sep='\\t', header=False, index=False)"
   ]
  },
  {
   "cell_type": "code",
   "execution_count": 25,
   "id": "9601ac15-5efe-4d31-81ae-adae62b90247",
   "metadata": {},
   "outputs": [],
   "source": [
    "# GET GENE BED\n",
    "df = sort_by_type[sort_by_type.type=='gene']\n",
    "gene_bed_df = df[['seq_id', 'start', 'end']]\n",
    "\n",
    "output_bed = 'c-elegans-genes.bed'\n",
    "#gene_bed_df.to_csv(output_bed, sep='\\t', header=False, index=False)"
   ]
  },
  {
   "cell_type": "code",
   "execution_count": 16,
   "id": "56ea7913-8d75-413f-975f-321a39763e03",
   "metadata": {},
   "outputs": [],
   "source": [
    "# GET 5' UTR BED\n",
    "df = sort_by_type[sort_by_type.type=='five_prime_UTR']\n",
    "five_prime_utr_bed_df = df[['seq_id', 'start', 'end']]\n",
    "\n",
    "output_bed = 'c-elegans-five-prime-utr.bed'\n",
    "#five_prime_utr_bed_df.to_csv(output_bed, sep='\\t', header=False, index=False)"
   ]
  },
  {
   "cell_type": "code",
   "execution_count": 17,
   "id": "98d8e30b-d52f-46fd-b9d3-8ed96ce52443",
   "metadata": {},
   "outputs": [],
   "source": [
    "# GET 3' UTR BED\n",
    "df = sort_by_type[sort_by_type.type=='three_prime_UTR']\n",
    "three_prime_utr_bed_df = df[['seq_id', 'start', 'end']]\n",
    "\n",
    "output_bed = 'c-elegans-three-prime-utr.bed'\n",
    "#three_prime_utr_bed_df.to_csv(output_bed, sep='\\t', header=False, index=False)"
   ]
  },
  {
   "cell_type": "code",
   "execution_count": 18,
   "id": "b1d7f220-d200-4007-96da-ee863ac5acd2",
   "metadata": {},
   "outputs": [],
   "source": [
    "# GET mRNA BED\n",
    "df = sort_by_type[sort_by_type.type=='mRNA']\n",
    "mrna_bed_df = df[['seq_id', 'start', 'end']]\n",
    "\n",
    "output_bed = 'c-elegans-mrna.bed'\n",
    "#mrna_bed_df.to_csv(output_bed, sep='\\t', header=False, index=False)"
   ]
  },
  {
   "cell_type": "code",
   "execution_count": 19,
   "id": "000df88b-0f43-4ad7-963c-5f6eae520d33",
   "metadata": {},
   "outputs": [],
   "source": [
    "# GET ncRNA BED\n",
    "df = sort_by_type[sort_by_type.type=='ncRNA']\n",
    "ncrna_bed_df = df[['seq_id', 'start', 'end']]\n",
    "\n",
    "output_bed = 'c-elegans-ncrna.bed'\n",
    "#ncrna_bed_df.to_csv(output_bed, sep='\\t', header=False, index=False)"
   ]
  }
 ],
 "metadata": {
  "kernelspec": {
   "display_name": "Python 3 (ipykernel)",
   "language": "python",
   "name": "python3"
  },
  "language_info": {
   "codemirror_mode": {
    "name": "ipython",
    "version": 3
   },
   "file_extension": ".py",
   "mimetype": "text/x-python",
   "name": "python",
   "nbconvert_exporter": "python",
   "pygments_lexer": "ipython3",
   "version": "3.11.5"
  }
 },
 "nbformat": 4,
 "nbformat_minor": 5
}
