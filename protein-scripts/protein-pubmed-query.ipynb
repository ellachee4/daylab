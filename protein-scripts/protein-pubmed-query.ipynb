{
 "cells": [
  {
   "cell_type": "code",
   "execution_count": 1,
   "metadata": {},
   "outputs": [
    {
     "data": {
      "text/plain": [
       "\" def main(list_proteins):\\n    # sorted list of proteins and their associated article counts\\n    sorted_protein_article_counts = query_pubmed(list_proteins)\\n\\n    # convert to dataframe\\n    df = pd.DataFrame(sorted_protein_article_counts, columns=['Protein', 'Article Count'])\\n    print(df)\\n\\n# list of proteins to query\\nproteins = ['POT1', 'RPA', 'CST', 'CTC1-STN1-TEN1', 'BRCA1', 'hnRNP A1', 'Pif1']\\n\\nmain(proteins) \""
      ]
     },
     "execution_count": 1,
     "metadata": {},
     "output_type": "execute_result"
    }
   ],
   "source": [
    "from Bio import Entrez\n",
    "import pandas as pd\n",
    "\n",
    "Entrez.email = 'chee.el@northeastern.edu'\n",
    "\n",
    "def get_article_count(protein_name):\n",
    "    '''\n",
    "    Query PubMed for the number of articles associated with a given protein using both MeSH terms and text words.\n",
    "    '''\n",
    "    term = f'{protein_name}[MeSH Terms] OR {protein_name}[tw]'\n",
    "    handle = Entrez.esearch(db='pubmed', term=term)\n",
    "    record = Entrez.read(handle)\n",
    "    handle.close()\n",
    "    return int(record['Count'])\n",
    "\n",
    "def query_pubmed(proteins):\n",
    "    '''\n",
    "    Query PubMed for a list of proteins and return a sorted list of proteins \n",
    "    and the number of associated articles.\n",
    "    '''\n",
    "    protein_article_counts = []\n",
    "    for protein in proteins:\n",
    "        count = get_article_count(protein)\n",
    "        protein_article_counts.append((protein, count))\n",
    "    \n",
    "    # sort list smallest to largest\n",
    "    protein_article_counts.sort(key=lambda x: x[1])\n",
    "    \n",
    "    return protein_article_counts\n",
    "\n",
    "\"\"\" def main(list_proteins):\n",
    "    # sorted list of proteins and their associated article counts\n",
    "    sorted_protein_article_counts = query_pubmed(list_proteins)\n",
    "\n",
    "    # convert to dataframe\n",
    "    df = pd.DataFrame(sorted_protein_article_counts, columns=['Protein', 'Article Count'])\n",
    "    print(df)\n",
    "\n",
    "# list of proteins to query\n",
    "proteins = ['POT1', 'RPA', 'CST', 'CTC1-STN1-TEN1', 'BRCA1', 'hnRNP A1', 'Pif1']\n",
    "\n",
    "main(proteins) \"\"\""
   ]
  },
  {
   "cell_type": "code",
   "execution_count": 4,
   "metadata": {},
   "outputs": [
    {
     "name": "stdout",
     "output_type": "stream",
     "text": [
      "read csv\n",
      "protein list\n",
      "Results saved to protein_article_counts.csv\n"
     ]
    }
   ],
   "source": [
    "def main(input_csv, output_csv):\n",
    "\n",
    "    # read proteins from input CSV\n",
    "    df = pd.read_csv(input_csv)\n",
    "    print('Read CSV')\n",
    "    proteins = df['Protein'].tolist()\n",
    "    print('Created protein list')\n",
    "\n",
    "    # sorted list of proteins and their associated article counts\n",
    "    sorted_protein_article_counts = query_pubmed(proteins)\n",
    "\n",
    "    # convert to dataframe\n",
    "    result_df = pd.DataFrame(sorted_protein_article_counts, columns=['Protein', 'Article Count'])\n",
    "    result_df.to_csv(output_csv, index=False)\n",
    "    print(f\"Results saved to {output_csv}\")\n",
    "\n",
    "\n",
    "# list of proteins to query\n",
    "proteins = ['POT1', 'RPA', 'CST', 'CTC1-STN1-TEN1', 'BRCA1', 'hnRNP A1', 'Pif1']\n",
    "\n",
    "if __name__ == \"__main__\":\n",
    "    input_csv = \"proteins.csv\"\n",
    "    output_csv = \"protein_article_counts.csv\"\n",
    "    main(input_csv, output_csv)"
   ]
  }
 ],
 "metadata": {
  "kernelspec": {
   "display_name": "Python 3",
   "language": "python",
   "name": "python3"
  },
  "language_info": {
   "codemirror_mode": {
    "name": "ipython",
    "version": 3
   },
   "file_extension": ".py",
   "mimetype": "text/x-python",
   "name": "python",
   "nbconvert_exporter": "python",
   "pygments_lexer": "ipython3",
   "version": "3.11.9"
  }
 },
 "nbformat": 4,
 "nbformat_minor": 2
}
