{
 "cells": [
  {
   "cell_type": "code",
   "execution_count": 6,
   "metadata": {},
   "outputs": [
    {
     "name": "stdout",
     "output_type": "stream",
     "text": [
      "Protein selection data saved to final-scores-4.csv\n"
     ]
    }
   ],
   "source": [
    "import pandas as pd\n",
    "\n",
    "#----------------- UV Score -----------------#\n",
    "def map_uv(timepoint):\n",
    "    '''Assign timepoints to UV scores. '''\n",
    "    if timepoint=='mock':\n",
    "        return -4\n",
    "    elif timepoint=='01h':\n",
    "        return 1\n",
    "    elif timepoint=='24h':\n",
    "        return 2\n",
    "    else:\n",
    "        return 3\n",
    "\n",
    "def uv_score(uv):\n",
    "    ''' Calculate UV score based on the timepoints of UV treatment.'''\n",
    "    uv_list = list(set(uv.split(':')))\n",
    "    return sum(map(map_uv, uv_list))\n",
    "\n",
    "#----------------- Compute Score -----------------#\n",
    "def compute_score(row):\n",
    "    '''\n",
    "    Compute weighted score for protein selection based on article count (favor fewer), \n",
    "    number of referenced antibodies, interactions GO score, and UV score.\n",
    "    '''\n",
    "\n",
    "    # late more important, mock less important ercc6 rated high by score, \n",
    "    # present at 3 timepoints, mock is one of them (fix uv score)\n",
    "    # any term present gets increase score if found in abstract\n",
    "\n",
    "    score = row['Total Article Count (normalized)']*-1 \n",
    "    + row['Term Article Count (normalized)'] \n",
    "    + row['Number of Ref-ed Antibodies (normalized)']*0.5\n",
    "    + row['Interactions (normalized)'] \n",
    "    + row['GO Score (normalized)'] \n",
    "    + row['UV Score (normalized)']\n",
    "    return score\n",
    "\n",
    "def final_score(final_output_csv):\n",
    "    df = pd.read_csv('final-scores-3.csv')\n",
    "    article_df = pd.read_csv('combined-scores.csv')\n",
    "    df_with_uv = pd.read_csv('proteins_with_uv.csv')\n",
    "\n",
    "    df['Total Article Count'] = article_df['Article Count']\n",
    "    df['UV Score'] = df_with_uv['UV_treatment'].apply(lambda x: uv_score(x))\n",
    "    df.rename(columns={'Article Count': 'Term Article Count'}, inplace=True)\n",
    "\n",
    "    for col in ['Number of Ref-ed Antibodies', 'Total Article Count', 'Term Article Count', 'Interactions', 'GO Score', 'UV Score']:\n",
    "        df[col] =pd.to_numeric(df[col])\n",
    "        df[f'{col} (normalized)'] = df[col]/df[col].std()\n",
    "\n",
    "    # Compute weighted score for protein selection and save results to CSV\n",
    "    df['Overall Score'] = df.apply(lambda x: compute_score(x), axis=1)\n",
    "    cols = ['Uniprot', 'Protein Symbol','Antibody Link', 'Number of Antibodies', 'Number of Providers', 'Number of Ref-ed Antibodies',\n",
    "            'Total Article Count', 'Interactions', 'GO Score', 'UV Score','Overall Score', 'GO Terms', 'Term Article Count']\n",
    "    df = df[cols]\n",
    "    df= df[['Uniprot', 'Protein Symbol','Antibody Link', 'Number of Antibodies', 'Number of Providers', 'Number of Ref-ed Antibodies',\n",
    "            'Total Article Count', 'Term Article Count', 'Interactions', 'GO Score', 'UV Score','Overall Score', 'GO Terms']]\n",
    "    df.to_csv(final_output_csv)\n",
    "    print('Protein selection data saved to', final_output_csv)\n",
    "\n",
    "final_score('final-scores-4.csv')\n"
   ]
  }
 ],
 "metadata": {
  "kernelspec": {
   "display_name": "selenium_env2",
   "language": "python",
   "name": "python3"
  },
  "language_info": {
   "codemirror_mode": {
    "name": "ipython",
    "version": 3
   },
   "file_extension": ".py",
   "mimetype": "text/x-python",
   "name": "python",
   "nbconvert_exporter": "python",
   "pygments_lexer": "ipython3",
   "version": "3.9.7"
  }
 },
 "nbformat": 4,
 "nbformat_minor": 2
}
