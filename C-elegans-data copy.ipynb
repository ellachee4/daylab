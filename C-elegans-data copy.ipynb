{
 "cells": [
  {
   "cell_type": "code",
   "id": "8c3e02db",
   "metadata": {
    "ExecuteTime": {
     "end_time": "2024-07-19T20:55:13.576542Z",
     "start_time": "2024-07-19T20:55:12.709220Z"
    }
   },
   "source": [
    "# imports\n",
    "import gffpandas.gffpandas as gffpd\n",
    "from pybedtools import BedTool \n",
    "import pybedtools\n",
    "import pandas as pd"
   ],
   "outputs": [],
   "execution_count": 2
  },
  {
   "cell_type": "code",
   "execution_count": 2,
   "id": "07e249d1",
   "metadata": {},
   "outputs": [
    {
     "name": "stderr",
     "output_type": "stream",
     "text": [
      "/Users/nutellachee/anaconda3/lib/python3.11/site-packages/gffpandas/gffpandas.py:32: DtypeWarning: Columns (5,7) have mixed types. Specify dtype option on import or set low_memory=False.\n",
      "  self.df = pd.read_table(self._gff_file, comment='#',\n"
     ]
    },
    {
     "name": "stdout",
     "output_type": "stream",
     "text": [
      "                  seq_id          source                  type     start  \\\n",
      "0          CHROMOSOME_II  Transposon_CDS  transposable_element   2308405   \n",
      "1           CHROMOSOME_X  Transposon_CDS  transposable_element  17169322   \n",
      "2           CHROMOSOME_X  Transposon_CDS  transposable_element  17195826   \n",
      "3         CHROMOSOME_III  Transposon_CDS  transposable_element   8695003   \n",
      "4           CHROMOSOME_X  Transposon_CDS  transposable_element   7068838   \n",
      "...                  ...             ...                   ...       ...   \n",
      "12020370    CHROMOSOME_V      Transposon  transposable_element  12800872   \n",
      "12020371    CHROMOSOME_X      Transposon  transposable_element  16109026   \n",
      "12020372    CHROMOSOME_I      Transposon  transposable_element  14981052   \n",
      "12020373   CHROMOSOME_II      Transposon  transposable_element   7922501   \n",
      "12020374   CHROMOSOME_II      Transposon  transposable_element  10465515   \n",
      "\n",
      "               end score strand phase           attributes  \n",
      "0          2309571     .      +     .          cds=B0281.2  \n",
      "1         17170161     .      +     .          cds=B0302.3  \n",
      "2         17197267     .      -     .          cds=B0302.6  \n",
      "3          8696040     .      +     .          cds=B0303.5  \n",
      "4          7069746     .      +     .          cds=B0403.1  \n",
      "...            ...   ...    ...   ...                  ...  \n",
      "12020370  12801855     .      -     .   transposon=ZC455.2  \n",
      "12020371  16112436     .      +     .  transposon=ZK1073.3  \n",
      "12020372  14983767     .      +     .   transposon=ZK337.3  \n",
      "12020373   7924103     .      -     .   transposon=ZK669.6  \n",
      "12020374  10466558     .      -     .   transposon=ZK673.8  \n",
      "\n",
      "[12020375 rows x 9 columns]\n",
      "##gff-version 3\n",
      "##sequence-region CHROMOSOME_I 1 15072423\n",
      "##sequence-region CHROMOSOME_II 1 15279345\n",
      "##sequence-region CHROMOSOME_III 1 13783700\n",
      "##sequence-region CHROMOSOME_IV 1 17493793\n",
      "##sequence-region CHROMOSOME_MtDNA 1 13794\n",
      "##sequence-region CHROMOSOME_V 1 20924149\n",
      "##sequence-region CHROMOSOME_X 1 17718866\n",
      "\n"
     ]
    }
   ],
   "source": [
    "# gff to dataframe\n",
    "annotations = gffpd.read_gff3('c_elegans.WS220.annotations.gff3')\n",
    "print(annotations.df)\n",
    "print(annotations.header)\n"
   ]
  },
  {
   "cell_type": "code",
   "execution_count": 7,
   "id": "ec1581b9",
   "metadata": {},
   "outputs": [],
   "source": [
    "sort_by_type = annotations.df.sort_values(by=\"type\")"
   ]
  },
  {
   "cell_type": "code",
   "execution_count": 8,
   "id": "3652ea7b",
   "metadata": {},
   "outputs": [
    {
     "data": {
      "text/html": [
       "<div>\n",
       "<style scoped>\n",
       "    .dataframe tbody tr th:only-of-type {\n",
       "        vertical-align: middle;\n",
       "    }\n",
       "\n",
       "    .dataframe tbody tr th {\n",
       "        vertical-align: top;\n",
       "    }\n",
       "\n",
       "    .dataframe thead th {\n",
       "        text-align: right;\n",
       "    }\n",
       "</style>\n",
       "<table border=\"1\" class=\"dataframe\">\n",
       "  <thead>\n",
       "    <tr style=\"text-align: right;\">\n",
       "      <th></th>\n",
       "      <th>seq_id</th>\n",
       "      <th>source</th>\n",
       "      <th>type</th>\n",
       "      <th>start</th>\n",
       "      <th>end</th>\n",
       "      <th>score</th>\n",
       "      <th>strand</th>\n",
       "      <th>phase</th>\n",
       "      <th>attributes</th>\n",
       "    </tr>\n",
       "  </thead>\n",
       "  <tbody>\n",
       "    <tr>\n",
       "      <th>661958</th>\n",
       "      <td>CHROMOSOME_II</td>\n",
       "      <td>GeneMarkHMM</td>\n",
       "      <td>CDS</td>\n",
       "      <td>7125605</td>\n",
       "      <td>7125674</td>\n",
       "      <td>.</td>\n",
       "      <td>+</td>\n",
       "      <td>0</td>\n",
       "      <td>ID=CDS:GeneMark.chr_II.2163</td>\n",
       "    </tr>\n",
       "    <tr>\n",
       "      <th>638392</th>\n",
       "      <td>CHROMOSOME_I</td>\n",
       "      <td>GeneMarkHMM</td>\n",
       "      <td>CDS</td>\n",
       "      <td>7209388</td>\n",
       "      <td>7209445</td>\n",
       "      <td>.</td>\n",
       "      <td>-</td>\n",
       "      <td>0</td>\n",
       "      <td>ID=CDS:GeneMark.chr_I.1526</td>\n",
       "    </tr>\n",
       "    <tr>\n",
       "      <th>638393</th>\n",
       "      <td>CHROMOSOME_I</td>\n",
       "      <td>GeneMarkHMM</td>\n",
       "      <td>CDS</td>\n",
       "      <td>7210591</td>\n",
       "      <td>7210671</td>\n",
       "      <td>.</td>\n",
       "      <td>+</td>\n",
       "      <td>0</td>\n",
       "      <td>ID=CDS:GeneMark.chr_I.1527</td>\n",
       "    </tr>\n",
       "    <tr>\n",
       "      <th>638394</th>\n",
       "      <td>CHROMOSOME_I</td>\n",
       "      <td>GeneMarkHMM</td>\n",
       "      <td>CDS</td>\n",
       "      <td>7210718</td>\n",
       "      <td>7210809</td>\n",
       "      <td>.</td>\n",
       "      <td>+</td>\n",
       "      <td>0</td>\n",
       "      <td>ID=CDS:GeneMark.chr_I.1527</td>\n",
       "    </tr>\n",
       "    <tr>\n",
       "      <th>638395</th>\n",
       "      <td>CHROMOSOME_I</td>\n",
       "      <td>GeneMarkHMM</td>\n",
       "      <td>CDS</td>\n",
       "      <td>7211079</td>\n",
       "      <td>7211253</td>\n",
       "      <td>.</td>\n",
       "      <td>+</td>\n",
       "      <td>2</td>\n",
       "      <td>ID=CDS:GeneMark.chr_I.1527</td>\n",
       "    </tr>\n",
       "    <tr>\n",
       "      <th>...</th>\n",
       "      <td>...</td>\n",
       "      <td>...</td>\n",
       "      <td>...</td>\n",
       "      <td>...</td>\n",
       "      <td>...</td>\n",
       "      <td>...</td>\n",
       "      <td>...</td>\n",
       "      <td>...</td>\n",
       "      <td>...</td>\n",
       "    </tr>\n",
       "    <tr>\n",
       "      <th>11995885</th>\n",
       "      <td>CHROMOSOME_III</td>\n",
       "      <td>Mos_insertion_allele</td>\n",
       "      <td>transposable_element_insertion_site</td>\n",
       "      <td>3285231</td>\n",
       "      <td>3285232</td>\n",
       "      <td>.</td>\n",
       "      <td>-</td>\n",
       "      <td>.</td>\n",
       "      <td>public_name=ttTi3826;variation=WBVar00254241</td>\n",
       "    </tr>\n",
       "    <tr>\n",
       "      <th>11995884</th>\n",
       "      <td>CHROMOSOME_V</td>\n",
       "      <td>Mos_insertion_allele</td>\n",
       "      <td>transposable_element_insertion_site</td>\n",
       "      <td>18326120</td>\n",
       "      <td>18326121</td>\n",
       "      <td>.</td>\n",
       "      <td>-</td>\n",
       "      <td>.</td>\n",
       "      <td>public_name=ttTi38261;variation=WBVar00263214</td>\n",
       "    </tr>\n",
       "    <tr>\n",
       "      <th>11995883</th>\n",
       "      <td>CHROMOSOME_V</td>\n",
       "      <td>Mos_insertion_allele</td>\n",
       "      <td>transposable_element_insertion_site</td>\n",
       "      <td>11272893</td>\n",
       "      <td>11272894</td>\n",
       "      <td>.</td>\n",
       "      <td>-</td>\n",
       "      <td>.</td>\n",
       "      <td>public_name=ttTi38260;variation=WBVar00263213</td>\n",
       "    </tr>\n",
       "    <tr>\n",
       "      <th>11995896</th>\n",
       "      <td>CHROMOSOME_III</td>\n",
       "      <td>Mos_insertion_allele</td>\n",
       "      <td>transposable_element_insertion_site</td>\n",
       "      <td>6973626</td>\n",
       "      <td>6973627</td>\n",
       "      <td>.</td>\n",
       "      <td>-</td>\n",
       "      <td>.</td>\n",
       "      <td>public_name=ttTi38308;variation=WBVar00263223</td>\n",
       "    </tr>\n",
       "    <tr>\n",
       "      <th>11993202</th>\n",
       "      <td>CHROMOSOME_II</td>\n",
       "      <td>Mos_insertion_allele</td>\n",
       "      <td>transposable_element_insertion_site</td>\n",
       "      <td>14013509</td>\n",
       "      <td>14013510</td>\n",
       "      <td>.</td>\n",
       "      <td>-</td>\n",
       "      <td>.</td>\n",
       "      <td>public_name=ttTi31278;variation=WBVar00260834</td>\n",
       "    </tr>\n",
       "  </tbody>\n",
       "</table>\n",
       "<p>12020375 rows × 9 columns</p>\n",
       "</div>"
      ],
      "text/plain": [
       "                  seq_id                source  \\\n",
       "661958     CHROMOSOME_II           GeneMarkHMM   \n",
       "638392      CHROMOSOME_I           GeneMarkHMM   \n",
       "638393      CHROMOSOME_I           GeneMarkHMM   \n",
       "638394      CHROMOSOME_I           GeneMarkHMM   \n",
       "638395      CHROMOSOME_I           GeneMarkHMM   \n",
       "...                  ...                   ...   \n",
       "11995885  CHROMOSOME_III  Mos_insertion_allele   \n",
       "11995884    CHROMOSOME_V  Mos_insertion_allele   \n",
       "11995883    CHROMOSOME_V  Mos_insertion_allele   \n",
       "11995896  CHROMOSOME_III  Mos_insertion_allele   \n",
       "11993202   CHROMOSOME_II  Mos_insertion_allele   \n",
       "\n",
       "                                         type     start       end score  \\\n",
       "661958                                    CDS   7125605   7125674     .   \n",
       "638392                                    CDS   7209388   7209445     .   \n",
       "638393                                    CDS   7210591   7210671     .   \n",
       "638394                                    CDS   7210718   7210809     .   \n",
       "638395                                    CDS   7211079   7211253     .   \n",
       "...                                       ...       ...       ...   ...   \n",
       "11995885  transposable_element_insertion_site   3285231   3285232     .   \n",
       "11995884  transposable_element_insertion_site  18326120  18326121     .   \n",
       "11995883  transposable_element_insertion_site  11272893  11272894     .   \n",
       "11995896  transposable_element_insertion_site   6973626   6973627     .   \n",
       "11993202  transposable_element_insertion_site  14013509  14013510     .   \n",
       "\n",
       "         strand phase                                     attributes  \n",
       "661958        +     0                    ID=CDS:GeneMark.chr_II.2163  \n",
       "638392        -     0                     ID=CDS:GeneMark.chr_I.1526  \n",
       "638393        +     0                     ID=CDS:GeneMark.chr_I.1527  \n",
       "638394        +     0                     ID=CDS:GeneMark.chr_I.1527  \n",
       "638395        +     2                     ID=CDS:GeneMark.chr_I.1527  \n",
       "...         ...   ...                                            ...  \n",
       "11995885      -     .   public_name=ttTi3826;variation=WBVar00254241  \n",
       "11995884      -     .  public_name=ttTi38261;variation=WBVar00263214  \n",
       "11995883      -     .  public_name=ttTi38260;variation=WBVar00263213  \n",
       "11995896      -     .  public_name=ttTi38308;variation=WBVar00263223  \n",
       "11993202      -     .  public_name=ttTi31278;variation=WBVar00260834  \n",
       "\n",
       "[12020375 rows x 9 columns]"
      ]
     },
     "execution_count": 8,
     "metadata": {},
     "output_type": "execute_result"
    }
   ],
   "source": [
    "sort_by_type"
   ]
  },
  {
   "cell_type": "code",
   "execution_count": 10,
   "id": "a3573581",
   "metadata": {},
   "outputs": [
    {
     "data": {
      "text/html": [
       "<div>\n",
       "<style scoped>\n",
       "    .dataframe tbody tr th:only-of-type {\n",
       "        vertical-align: middle;\n",
       "    }\n",
       "\n",
       "    .dataframe tbody tr th {\n",
       "        vertical-align: top;\n",
       "    }\n",
       "\n",
       "    .dataframe thead th {\n",
       "        text-align: right;\n",
       "    }\n",
       "</style>\n",
       "<table border=\"1\" class=\"dataframe\">\n",
       "  <thead>\n",
       "    <tr style=\"text-align: right;\">\n",
       "      <th></th>\n",
       "      <th>seq_id</th>\n",
       "      <th>source</th>\n",
       "      <th>type</th>\n",
       "      <th>start</th>\n",
       "      <th>end</th>\n",
       "      <th>score</th>\n",
       "      <th>strand</th>\n",
       "      <th>phase</th>\n",
       "      <th>attributes</th>\n",
       "    </tr>\n",
       "  </thead>\n",
       "  <tbody>\n",
       "    <tr>\n",
       "      <th>11995885</th>\n",
       "      <td>CHROMOSOME_III</td>\n",
       "      <td>Mos_insertion_allele</td>\n",
       "      <td>transposable_element_insertion_site</td>\n",
       "      <td>3285231</td>\n",
       "      <td>3285232</td>\n",
       "      <td>.</td>\n",
       "      <td>-</td>\n",
       "      <td>.</td>\n",
       "      <td>public_name=ttTi3826;variation=WBVar00254241</td>\n",
       "    </tr>\n",
       "    <tr>\n",
       "      <th>11995884</th>\n",
       "      <td>CHROMOSOME_V</td>\n",
       "      <td>Mos_insertion_allele</td>\n",
       "      <td>transposable_element_insertion_site</td>\n",
       "      <td>18326120</td>\n",
       "      <td>18326121</td>\n",
       "      <td>.</td>\n",
       "      <td>-</td>\n",
       "      <td>.</td>\n",
       "      <td>public_name=ttTi38261;variation=WBVar00263214</td>\n",
       "    </tr>\n",
       "    <tr>\n",
       "      <th>11995883</th>\n",
       "      <td>CHROMOSOME_V</td>\n",
       "      <td>Mos_insertion_allele</td>\n",
       "      <td>transposable_element_insertion_site</td>\n",
       "      <td>11272893</td>\n",
       "      <td>11272894</td>\n",
       "      <td>.</td>\n",
       "      <td>-</td>\n",
       "      <td>.</td>\n",
       "      <td>public_name=ttTi38260;variation=WBVar00263213</td>\n",
       "    </tr>\n",
       "    <tr>\n",
       "      <th>11995896</th>\n",
       "      <td>CHROMOSOME_III</td>\n",
       "      <td>Mos_insertion_allele</td>\n",
       "      <td>transposable_element_insertion_site</td>\n",
       "      <td>6973626</td>\n",
       "      <td>6973627</td>\n",
       "      <td>.</td>\n",
       "      <td>-</td>\n",
       "      <td>.</td>\n",
       "      <td>public_name=ttTi38308;variation=WBVar00263223</td>\n",
       "    </tr>\n",
       "    <tr>\n",
       "      <th>11993202</th>\n",
       "      <td>CHROMOSOME_II</td>\n",
       "      <td>Mos_insertion_allele</td>\n",
       "      <td>transposable_element_insertion_site</td>\n",
       "      <td>14013509</td>\n",
       "      <td>14013510</td>\n",
       "      <td>.</td>\n",
       "      <td>-</td>\n",
       "      <td>.</td>\n",
       "      <td>public_name=ttTi31278;variation=WBVar00260834</td>\n",
       "    </tr>\n",
       "  </tbody>\n",
       "</table>\n",
       "</div>"
      ],
      "text/plain": [
       "                  seq_id                source  \\\n",
       "11995885  CHROMOSOME_III  Mos_insertion_allele   \n",
       "11995884    CHROMOSOME_V  Mos_insertion_allele   \n",
       "11995883    CHROMOSOME_V  Mos_insertion_allele   \n",
       "11995896  CHROMOSOME_III  Mos_insertion_allele   \n",
       "11993202   CHROMOSOME_II  Mos_insertion_allele   \n",
       "\n",
       "                                         type     start       end score  \\\n",
       "11995885  transposable_element_insertion_site   3285231   3285232     .   \n",
       "11995884  transposable_element_insertion_site  18326120  18326121     .   \n",
       "11995883  transposable_element_insertion_site  11272893  11272894     .   \n",
       "11995896  transposable_element_insertion_site   6973626   6973627     .   \n",
       "11993202  transposable_element_insertion_site  14013509  14013510     .   \n",
       "\n",
       "         strand phase                                     attributes  \n",
       "11995885      -     .   public_name=ttTi3826;variation=WBVar00254241  \n",
       "11995884      -     .  public_name=ttTi38261;variation=WBVar00263214  \n",
       "11995883      -     .  public_name=ttTi38260;variation=WBVar00263213  \n",
       "11995896      -     .  public_name=ttTi38308;variation=WBVar00263223  \n",
       "11993202      -     .  public_name=ttTi31278;variation=WBVar00260834  "
      ]
     },
     "execution_count": 10,
     "metadata": {},
     "output_type": "execute_result"
    }
   ],
   "source": [
    "sort_by_type.tail()"
   ]
  },
  {
   "cell_type": "code",
   "execution_count": 21,
   "id": "acc193f0",
   "metadata": {},
   "outputs": [
    {
     "data": {
      "text/html": [
       "<div>\n",
       "<style scoped>\n",
       "    .dataframe tbody tr th:only-of-type {\n",
       "        vertical-align: middle;\n",
       "    }\n",
       "\n",
       "    .dataframe tbody tr th {\n",
       "        vertical-align: top;\n",
       "    }\n",
       "\n",
       "    .dataframe thead th {\n",
       "        text-align: right;\n",
       "    }\n",
       "</style>\n",
       "<table border=\"1\" class=\"dataframe\">\n",
       "  <thead>\n",
       "    <tr style=\"text-align: right;\">\n",
       "      <th></th>\n",
       "      <th>seq_id</th>\n",
       "      <th>source</th>\n",
       "      <th>type</th>\n",
       "      <th>start</th>\n",
       "      <th>end</th>\n",
       "      <th>score</th>\n",
       "      <th>strand</th>\n",
       "      <th>phase</th>\n",
       "      <th>attributes</th>\n",
       "    </tr>\n",
       "  </thead>\n",
       "  <tbody>\n",
       "  </tbody>\n",
       "</table>\n",
       "</div>"
      ],
      "text/plain": [
       "Empty DataFrame\n",
       "Columns: [seq_id, source, type, start, end, score, strand, phase, attributes]\n",
       "Index: []"
      ]
     },
     "execution_count": 21,
     "metadata": {},
     "output_type": "execute_result"
    }
   ],
   "source": [
    "sort_by_type.loc[sort_by_type[\"type\"] == \"transcription_start_site\"]"
   ]
  },
  {
   "cell_type": "code",
   "execution_count": 22,
   "id": "94ddb5a7",
   "metadata": {},
   "outputs": [
    {
     "data": {
      "text/plain": [
       "type\n",
       "protein_match                          3030842\n",
       "translated_nucleotide_match            2687608\n",
       "EST_match                              1825785\n",
       "nucleotide_match                       1703306\n",
       "CDS                                     639503\n",
       "RNAi_reagent                            262926\n",
       "SAGE_tag                                256193\n",
       "exon                                    216368\n",
       "expressed_sequence_match                206865\n",
       "SNP                                     178008\n",
       "intron                                  170621\n",
       "repeat_region                           117038\n",
       "inverted_repeat                          99291\n",
       "reagent                                  86851\n",
       "binding_site                             80273\n",
       "PCR_product                              72273\n",
       "tandem_repeat                            53026\n",
       "oligo                                    45255\n",
       "gene                                     43280\n",
       "mRNA                                     30163\n",
       "cDNA_match                               28924\n",
       "trans_splice_acceptor_site               25395\n",
       "five_prime_UTR                           24556\n",
       "ncRNA                                    23518\n",
       "experimental_result_region               20188\n",
       "three_prime_UTR                          19502\n",
       "region                                   16166\n",
       "transposable_element_insertion_site      15847\n",
       "polyA_site                               10870\n",
       "substitution                              6988\n",
       "deletion                                  5835\n",
       "pseudogene                                5269\n",
       "clone_insert_start                        2823\n",
       "clone_insert_end                          2711\n",
       "polyA_signal_sequence                     2454\n",
       "complex_substitution                      2132\n",
       "operon                                    1287\n",
       "transposable_element                       399\n",
       "insertion                                   29\n",
       "chromosome                                   7\n",
       "Name: count, dtype: int64"
      ]
     },
     "execution_count": 22,
     "metadata": {},
     "output_type": "execute_result"
    }
   ],
   "source": [
    "# identify different genomic region types\n",
    "sort_by_type['type'].value_counts(dropna=False) "
   ]
  },
  {
   "cell_type": "code",
   "execution_count": 24,
   "id": "f54d5ba1",
   "metadata": {},
   "outputs": [
    {
     "data": {
      "text/plain": [
       "seq_id\n",
       "CHROMOSOME_V        2529538\n",
       "CHROMOSOME_IV       2217064\n",
       "CHROMOSOME_II       1959442\n",
       "CHROMOSOME_I        1856767\n",
       "CHROMOSOME_III      1769477\n",
       "CHROMOSOME_X        1675507\n",
       "CHROMOSOME_MtDNA      12580\n",
       "Name: count, dtype: int64"
      ]
     },
     "execution_count": 24,
     "metadata": {},
     "output_type": "execute_result"
    }
   ],
   "source": [
    "sort_by_type['seq_id'].value_counts(dropna=False) "
   ]
  },
  {
   "cell_type": "code",
   "execution_count": 28,
   "id": "ead26778",
   "metadata": {},
   "outputs": [],
   "source": [
    "# rename each chromosome (seq_id) to match bed file in peaks\n",
    "sort_by_type.loc[sort_by_type['seq_id'] == 'CHROMOSOME_I', 'seq_id'] = 'chrI'\n",
    "sort_by_type.loc[sort_by_type['seq_id'] == 'CHROMOSOME_II', 'seq_id'] = 'chrII'\n",
    "sort_by_type.loc[sort_by_type['seq_id'] == 'CHROMOSOME_III', 'seq_id'] = 'chrIII'\n",
    "sort_by_type.loc[sort_by_type['seq_id'] == 'CHROMOSOME_IV', 'seq_id'] = 'chrIV'\n",
    "sort_by_type.loc[sort_by_type['seq_id'] == 'CHROMOSOME_V', 'seq_id'] = 'chrV'\n",
    "sort_by_type.loc[sort_by_type['seq_id'] == 'CHROMOSOME_MtDNA', 'seq_id'] = 'chrM'\n",
    "sort_by_type.loc[sort_by_type['seq_id'] == 'CHROMOSOME_X', 'seq_id'] = 'chrX'"
   ]
  },
  {
   "cell_type": "code",
   "execution_count": 29,
   "id": "1af317d7",
   "metadata": {},
   "outputs": [
    {
     "data": {
      "text/plain": [
       "seq_id\n",
       "chrV      2529538\n",
       "chrIV     2217064\n",
       "chrII     1959442\n",
       "chrI      1856767\n",
       "chrIII    1769477\n",
       "chrX      1675507\n",
       "chrM        12580\n",
       "Name: count, dtype: int64"
      ]
     },
     "execution_count": 29,
     "metadata": {},
     "output_type": "execute_result"
    }
   ],
   "source": [
    "# confirm renaming\n",
    "sort_by_type['seq_id'].value_counts(dropna=False) "
   ]
  },
  {
   "cell_type": "code",
   "execution_count": 15,
   "id": "03b3e6b5",
   "metadata": {},
   "outputs": [],
   "source": []
  },
  {
   "cell_type": "code",
   "execution_count": 30,
   "id": "08ad5ae2",
   "metadata": {},
   "outputs": [],
   "source": [
    "genes = BedTool(\"c_elegans.WS220.annotations.gff3\")"
   ]
  },
  {
   "cell_type": "code",
   "execution_count": 31,
   "id": "7e3c261f",
   "metadata": {},
   "outputs": [],
   "source": [
    "peaks = BedTool(\"BG4_L1_HQ.bed\")"
   ]
  },
  {
   "cell_type": "code",
   "execution_count": 37,
   "id": "7dd2311d",
   "metadata": {},
   "outputs": [
    {
     "data": {
      "text/plain": [
       "<BedTool(intersection.bed)>"
      ]
     },
     "execution_count": 37,
     "metadata": {},
     "output_type": "execute_result"
    }
   ],
   "source": [
    "genes.intersect(peaks)"
   ]
  },
  {
   "cell_type": "code",
   "execution_count": 38,
   "id": "95b9258f",
   "metadata": {},
   "outputs": [
    {
     "ename": "AttributeError",
     "evalue": "'BedTool' object has no attribute 'bed'",
     "output_type": "error",
     "traceback": [
      "\u001B[0;31m---------------------------------------------------------------------------\u001B[0m",
      "\u001B[0;31mAttributeError\u001B[0m                            Traceback (most recent call last)",
      "Cell \u001B[0;32mIn[38], line 1\u001B[0m\n\u001B[0;32m----> 1\u001B[0m intersection\u001B[38;5;241m.\u001B[39mbed\n",
      "\u001B[0;31mAttributeError\u001B[0m: 'BedTool' object has no attribute 'bed'"
     ]
    }
   ],
   "source": [
    "print(int)"
   ]
  },
  {
   "cell_type": "code",
   "execution_count": 44,
   "id": "74ed31e4",
   "metadata": {},
   "outputs": [],
   "source": [
    "# GET PROMOTER BED\n",
    "# load CSV file containing TSS\n",
    "input_csv = 'c-elegans-tss.csv'\n",
    "df = pd.read_csv(input_csv)\n",
    "\n",
    "# process the data\n",
    "df['type'] = 'promoter'\n",
    "df['start'] = df['start position'] - 1000\n",
    "df['end'] = df['start position']\n",
    "\n",
    "# ensure the start position is not less than 0\n",
    "df.loc[df['start'] < 0, 'start'] = 0\n",
    "\n",
    "# select the required columns\n",
    "tss_bed_df = df[['chr', 'type', 'start', 'end']]\n",
    "\n",
    "# save to a BED file\n",
    "output_bed = 'c-elegans-tss.bed'\n",
    "tss_bed_df.to_csv(output_bed, sep='\\t', header=False, index=False)"
   ]
  },
  {
   "cell_type": "code",
   "execution_count": 45,
   "id": "29b21949",
   "metadata": {},
   "outputs": [],
   "source": [
    "# GET TSS BED\n",
    "# load CSV file containing TSS\n",
    "input_csv = 'c-elegans-tss.csv'\n",
    "df = pd.read_csv(input_csv)\n",
    "\n",
    "# process the data\n",
    "df['type'] = 'tss'\n",
    "df['start'] = df['start position'] - 1000\n",
    "df['end'] = df['start position'] + 1000\n",
    "\n",
    "# ensure the start position is not less than 0\n",
    "df.loc[df['start'] < 0, 'start'] = 0\n",
    "\n",
    "# select the required columns\n",
    "transcription_start_site_bed_df = df[['chr', 'type', 'start', 'end']]\n",
    "\n",
    "# save to a BED file\n",
    "output_bed = 'c-elegans-tss.bed'\n",
    "transcription_start_site_bed_df.to_csv(output_bed, sep='\\t', header=False, index=False)"
   ]
  },
  {
   "metadata": {},
   "cell_type": "code",
   "outputs": [],
   "execution_count": null,
   "source": "",
   "id": "d637c84801be657"
  },
  {
   "cell_type": "code",
   "id": "f2b3d26c",
   "metadata": {
    "ExecuteTime": {
     "end_time": "2024-07-19T20:55:18.882784Z",
     "start_time": "2024-07-19T20:55:18.813278Z"
    }
   },
   "source": [
    "def intersect_func(genomic_element, rq):\n",
    "    \n",
    "    intersection = BedTool(genomic_element).sort().intersect(BedTool(rq).sort())\n",
    "    intersection_df = pd.read_table(intersection.fn, names=['seq_id', 'start', 'end'])\n",
    "    num_overlaps = intersection_df.shape[0]\n",
    "    return num_overlaps\n",
    "\n",
    "# Test the function\n",
    "print(intersect_func('c-elegans-promoter.bed', 'BG4_L1_HQ.bed'))"
   ],
   "outputs": [
    {
     "name": "stdout",
     "output_type": "stream",
     "text": [
      "304\n"
     ]
    }
   ],
   "execution_count": 3
  },
  {
   "metadata": {
    "ExecuteTime": {
     "end_time": "2024-07-19T20:55:41.515710Z",
     "start_time": "2024-07-19T20:55:38.792797Z"
    }
   },
   "cell_type": "code",
   "source": [
    "# calculate actual overlaps for each genomic element\n",
    "genomic_elements = ['c-elegans-cds.bed', 'c-elegans-promoter.bed', 'c-elegans-exon.bed', 'c-elegans-five-prime-utr.bed', 'c-elegans-three-prime-utr.bed', 'c-elegans-intron.bed', 'c-elegans-genes.bed', 'c-elegans-mrna.bed', 'c-elegans-ncrna.bed', 'c-elegans-tss.bed',]\n",
    "\n",
    "genomic_df = pd.DataFrame(genomic_elements, columns=['genomic element'])\n",
    "genomic_df['overlaps'] = genomic_df['genomic element'].map(lambda x: intersect_func(x, 'BG4_L1_HQ.bed'))\n",
    "\n",
    "print(genomic_df)"
   ],
   "id": "f22da717348e7e9b",
   "outputs": [
    {
     "name": "stdout",
     "output_type": "stream",
     "text": [
      "                 genomic element  overlaps\n",
      "0              c-elegans-cds.bed      5191\n",
      "1         c-elegans-promoter.bed       304\n",
      "2             c-elegans-exon.bed      1250\n",
      "3   c-elegans-five-prime-utr.bed        93\n",
      "4  c-elegans-three-prime-utr.bed        81\n",
      "5           c-elegans-intron.bed      2537\n",
      "6            c-elegans-genes.bed      1875\n",
      "7             c-elegans-mrna.bed      2489\n",
      "8            c-elegans-ncrna.bed       178\n",
      "9              c-elegans-tss.bed       539\n"
     ]
    }
   ],
   "execution_count": 4
  },
  {
   "metadata": {
    "ExecuteTime": {
     "end_time": "2024-07-19T19:46:43.408883Z",
     "start_time": "2024-07-19T19:46:43.373374Z"
    }
   },
   "cell_type": "code",
   "source": [
    "\n",
    "# save dataframe to csv file\n",
    "genomic_df.to_csv('actual_overlaps.csv', index=False)"
   ],
   "id": "d7f7743b19647f4e",
   "outputs": [],
   "execution_count": 21
  },
  {
   "metadata": {
    "ExecuteTime": {
     "end_time": "2024-07-19T21:01:15.265529Z",
     "start_time": "2024-07-19T21:00:47.010195Z"
    }
   },
   "cell_type": "code",
   "source": [
    "def shuffle_intersect_func(genomic_element, rq):\n",
    "    rq_bt = BedTool(rq).sort()\n",
    "    shuffle = rq_bt.shuffle(genome='ce11')\n",
    "    return intersect_func(genomic_element, shuffle)\n",
    "\n",
    "genomic_df['shuffle_overlaps'] = genomic_df['genomic element'].map(lambda x: shuffle_intersect_func(x, 'BG4_L1_HQ.bed'))\n",
    "genomic_df['shuffle_overlaps1'] = genomic_df['genomic element'].map(lambda x: shuffle_intersect_func(x, 'BG4_L1_HQ.bed'))\n",
    "genomic_df['shuffle_overlaps2'] = genomic_df['genomic element'].map(lambda x: shuffle_intersect_func(x, 'BG4_L1_HQ.bed'))\n",
    "\n",
    "\n",
    "print(genomic_df)\n",
    "    "
   ],
   "id": "49a610d2b0008fb",
   "outputs": [
    {
     "name": "stdout",
     "output_type": "stream",
     "text": [
      "                 genomic element  overlaps  shuffle_overlaps  \\\n",
      "0              c-elegans-cds.bed      5191             12564   \n",
      "1         c-elegans-promoter.bed       304               494   \n",
      "2             c-elegans-exon.bed      1250              4028   \n",
      "3   c-elegans-five-prime-utr.bed        93               399   \n",
      "4  c-elegans-three-prime-utr.bed        81               333   \n",
      "5           c-elegans-intron.bed      2537              3983   \n",
      "6            c-elegans-genes.bed      1875              2320   \n",
      "7             c-elegans-mrna.bed      2489              3185   \n",
      "8            c-elegans-ncrna.bed       178               409   \n",
      "9              c-elegans-tss.bed       539               824   \n",
      "\n",
      "   shuffle_overlaps1  shuffle_overlaps2  \n",
      "0              12427              12293  \n",
      "1                528                458  \n",
      "2               4206               4098  \n",
      "3                350                447  \n",
      "4                375                307  \n",
      "5               4063               3916  \n",
      "6               2391               2374  \n",
      "7               3167               3060  \n",
      "8                377                405  \n",
      "9                771                817  \n"
     ]
    }
   ],
   "execution_count": 6
  },
  {
   "metadata": {
    "ExecuteTime": {
     "end_time": "2024-07-19T21:03:00.024375Z",
     "start_time": "2024-07-19T21:02:59.994668Z"
    }
   },
   "cell_type": "code",
   "source": [
    "# save dataframe to csv file\n",
    "genomic_df.to_csv('actual_and_shuffled_overlaps.csv', index=False)"
   ],
   "id": "eb792be0582cf08d",
   "outputs": [],
   "execution_count": 7
  },
  {
   "metadata": {},
   "cell_type": "code",
   "outputs": [],
   "execution_count": null,
   "source": "",
   "id": "68106f95f6e25d2a"
  }
 ],
 "metadata": {
  "kernelspec": {
   "display_name": "Python 3 (ipykernel)",
   "language": "python",
   "name": "python3"
  },
  "language_info": {
   "codemirror_mode": {
    "name": "ipython",
    "version": 3
   },
   "file_extension": ".py",
   "mimetype": "text/x-python",
   "name": "python",
   "nbconvert_exporter": "python",
   "pygments_lexer": "ipython3",
   "version": "3.11.5"
  }
 },
 "nbformat": 4,
 "nbformat_minor": 5
}
