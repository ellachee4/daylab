{
 "cells": [
  {
   "cell_type": "code",
   "execution_count": 58,
   "metadata": {},
   "outputs": [
    {
     "name": "stdout",
     "output_type": "stream",
     "text": [
      "Read in CUT&Tag data from: annotations_siBAZ2B_raw_MACS2_common_2.csv\n",
      "Read in RNA-seq data from: RNA_seq_siBAZ2B_results.csv\n"
     ]
    },
    {
     "name": "stderr",
     "output_type": "stream",
     "text": [
      "/var/folders/_q/whhxl_rd61gcb6kdz_mv3bzc0000gn/T/ipykernel_3332/3680593826.py:35: UserWarning: This pattern is interpreted as a regular expression, and has match groups. To actually get the groups, use str.extract.\n",
      "  df_filtered = df[df['Annotation'].str.contains(r'^(Promoter|Intron|Intergenic)')]\n"
     ]
    },
    {
     "name": "stdout",
     "output_type": "stream",
     "text": [
      "Read in CUT&Tag data from: annotations_siBAZ2B_raw_MACS2_unique_Ctrl.csv\n",
      "Read in RNA-seq data from: RNA_seq_siBAZ2B_results.csv\n"
     ]
    },
    {
     "name": "stderr",
     "output_type": "stream",
     "text": [
      "/var/folders/_q/whhxl_rd61gcb6kdz_mv3bzc0000gn/T/ipykernel_3332/3680593826.py:35: UserWarning: This pattern is interpreted as a regular expression, and has match groups. To actually get the groups, use str.extract.\n",
      "  df_filtered = df[df['Annotation'].str.contains(r'^(Promoter|Intron|Intergenic)')]\n"
     ]
    }
   ],
   "source": [
    "import pandas as pd\n",
    "import csv\n",
    "\n",
    "def overlap(cut_and_tag, output_csv):\n",
    "    '''\n",
    "    Given CUT&Tag CSV file containing Homer annotation analysis, \n",
    "    compare to RNA-seq data and return overlapping genes, \n",
    "    as well as the log2FC values for each gene.\n",
    "    '''\n",
    "\n",
    "    # Read in CSV file\n",
    "    cut_and_tag_df =  pd.read_csv(cut_and_tag)\n",
    "    print('Read in CUT&Tag data from:', cut_and_tag)\n",
    "\n",
    "    # Read in the RNA-seq data\n",
    "    rna_seq_df = pd.read_csv('RNA_seq_siBAZ2B_results.csv')\n",
    "    print('Read in RNA-seq data from: RNA_seq_siBAZ2B_results.csv')\n",
    "\n",
    "    genes = []\n",
    "    log2FC = []\n",
    "    annotations = []\n",
    "\n",
    "    # Search for overlapping genes\n",
    "    for name in cut_and_tag_df['Gene Name']:\n",
    "        for gene in rna_seq_df['SYMBOL']:\n",
    "            if name == gene:\n",
    "                genes.append(name)\n",
    "                log2FC.append(rna_seq_df.loc[rna_seq_df['SYMBOL'] == gene, 'log2FoldChange'].values[0])\n",
    "                annotations.append(cut_and_tag_df.loc[cut_and_tag_df['Gene Name'] == name, 'Annotation'].values[0])\n",
    "    \n",
    "    # Create a new DataFrame\n",
    "    df = pd.DataFrame({'Gene Name': genes, 'log2FoldChange': log2FC, 'Annotation': annotations})\n",
    "    df['Annotation'] = df['Annotation'].apply(lambda x: 'Intron' if x.startswith('intron') else x)\n",
    "    df['Annotation'] = df['Annotation'].apply(lambda x: 'Promoter' if x.startswith('promoter') else x)\n",
    "    df_filtered = df[df['Annotation'].str.contains(r'^(Promoter|Intron|Intergenic)')]\n",
    "    \n",
    "    # Write to a new CSV file\n",
    "    df_filtered.to_csv(output_csv, index=False)\n",
    "\n",
    "overlap('annotations_siBAZ2B_raw_MACS2_common_2.csv', 'siBAZ2B_common_rna_seq_overlap.csv')\n",
    "overlap('annotations_siBAZ2B_raw_MACS2_unique_Ctrl.csv', 'siBAZ2B_unique_rna_seq_overlap.csv')\n",
    "\n"
   ]
  },
  {
   "cell_type": "code",
   "execution_count": 49,
   "metadata": {},
   "outputs": [
    {
     "name": "stderr",
     "output_type": "stream",
     "text": [
      "/var/folders/_q/whhxl_rd61gcb6kdz_mv3bzc0000gn/T/ipykernel_79022/285371890.py:36: FutureWarning: \n",
      "\n",
      "Passing `palette` without assigning `hue` is deprecated and will be removed in v0.14.0. Assign the `x` variable to `hue` and set `legend=False` for the same effect.\n",
      "\n",
      "  sns.violinplot(data=promoter_df,  x='Label', y='log2FoldChange', ax=axs[0], inner='quartile', palette=palette)\n"
     ]
    },
    {
     "ename": "KeyboardInterrupt",
     "evalue": "",
     "output_type": "error",
     "traceback": [
      "\u001b[0;31m---------------------------------------------------------------------------\u001b[0m",
      "\u001b[0;31mKeyboardInterrupt\u001b[0m                         Traceback (most recent call last)",
      "Cell \u001b[0;32mIn[49], line 79\u001b[0m\n\u001b[1;32m     76\u001b[0m     plt\u001b[38;5;241m.\u001b[39mtight_layout()\n\u001b[1;32m     77\u001b[0m     plt\u001b[38;5;241m.\u001b[39mshow()\n\u001b[0;32m---> 79\u001b[0m \u001b[43mplot\u001b[49m\u001b[43m(\u001b[49m\u001b[38;5;124;43m'\u001b[39;49m\u001b[38;5;124;43msiBAZ2B_common_rna_seq_overlap.csv\u001b[39;49m\u001b[38;5;124;43m'\u001b[39;49m\u001b[43m,\u001b[49m\u001b[43m \u001b[49m\u001b[38;5;124;43m'\u001b[39;49m\u001b[38;5;124;43msiBAZ2B_unique_rna_seq_overlap.csv\u001b[39;49m\u001b[38;5;124;43m'\u001b[39;49m\u001b[43m)\u001b[49m\n",
      "Cell \u001b[0;32mIn[49], line 37\u001b[0m, in \u001b[0;36mplot\u001b[0;34m(common, unique)\u001b[0m\n\u001b[1;32m     35\u001b[0m \u001b[38;5;66;03m# Create violin plots\u001b[39;00m\n\u001b[1;32m     36\u001b[0m sns\u001b[38;5;241m.\u001b[39mviolinplot(data\u001b[38;5;241m=\u001b[39mpromoter_df,  x\u001b[38;5;241m=\u001b[39m\u001b[38;5;124m'\u001b[39m\u001b[38;5;124mLabel\u001b[39m\u001b[38;5;124m'\u001b[39m, y\u001b[38;5;241m=\u001b[39m\u001b[38;5;124m'\u001b[39m\u001b[38;5;124mlog2FoldChange\u001b[39m\u001b[38;5;124m'\u001b[39m, ax\u001b[38;5;241m=\u001b[39maxs[\u001b[38;5;241m0\u001b[39m], inner\u001b[38;5;241m=\u001b[39m\u001b[38;5;124m'\u001b[39m\u001b[38;5;124mquartile\u001b[39m\u001b[38;5;124m'\u001b[39m, palette\u001b[38;5;241m=\u001b[39mpalette)\n\u001b[0;32m---> 37\u001b[0m \u001b[43msns\u001b[49m\u001b[38;5;241;43m.\u001b[39;49m\u001b[43mswarmplot\u001b[49m\u001b[43m(\u001b[49m\u001b[43mdata\u001b[49m\u001b[38;5;241;43m=\u001b[39;49m\u001b[43mpromoter_df\u001b[49m\u001b[43m,\u001b[49m\u001b[43m  \u001b[49m\u001b[43mx\u001b[49m\u001b[38;5;241;43m=\u001b[39;49m\u001b[38;5;124;43m'\u001b[39;49m\u001b[38;5;124;43mLabel\u001b[39;49m\u001b[38;5;124;43m'\u001b[39;49m\u001b[43m,\u001b[49m\u001b[43m \u001b[49m\u001b[43my\u001b[49m\u001b[38;5;241;43m=\u001b[39;49m\u001b[38;5;124;43m'\u001b[39;49m\u001b[38;5;124;43mlog2FoldChange\u001b[39;49m\u001b[38;5;124;43m'\u001b[39;49m\u001b[43m,\u001b[49m\u001b[43m \u001b[49m\u001b[43max\u001b[49m\u001b[38;5;241;43m=\u001b[39;49m\u001b[43maxs\u001b[49m\u001b[43m[\u001b[49m\u001b[38;5;241;43m0\u001b[39;49m\u001b[43m]\u001b[49m\u001b[43m,\u001b[49m\u001b[43m \u001b[49m\u001b[43msize\u001b[49m\u001b[38;5;241;43m=\u001b[39;49m\u001b[38;5;241;43m3\u001b[39;49m\u001b[43m,\u001b[49m\u001b[43m \u001b[49m\u001b[43mcolor\u001b[49m\u001b[38;5;241;43m=\u001b[39;49m\u001b[38;5;124;43m'\u001b[39;49m\u001b[38;5;124;43mdimgrey\u001b[39;49m\u001b[38;5;124;43m'\u001b[39;49m\u001b[43m)\u001b[49m\n\u001b[1;32m     38\u001b[0m sns\u001b[38;5;241m.\u001b[39mviolinplot(data\u001b[38;5;241m=\u001b[39mintergenic_df,  x\u001b[38;5;241m=\u001b[39m\u001b[38;5;124m'\u001b[39m\u001b[38;5;124mLabel\u001b[39m\u001b[38;5;124m'\u001b[39m, y\u001b[38;5;241m=\u001b[39m\u001b[38;5;124m'\u001b[39m\u001b[38;5;124mlog2FoldChange\u001b[39m\u001b[38;5;124m'\u001b[39m, ax\u001b[38;5;241m=\u001b[39maxs[\u001b[38;5;241m1\u001b[39m], inner\u001b[38;5;241m=\u001b[39m\u001b[38;5;124m'\u001b[39m\u001b[38;5;124mquartile\u001b[39m\u001b[38;5;124m'\u001b[39m,  palette\u001b[38;5;241m=\u001b[39mpalette)\n\u001b[1;32m     39\u001b[0m sns\u001b[38;5;241m.\u001b[39mswarmplot(data\u001b[38;5;241m=\u001b[39mintergenic_df,  x\u001b[38;5;241m=\u001b[39m\u001b[38;5;124m'\u001b[39m\u001b[38;5;124mLabel\u001b[39m\u001b[38;5;124m'\u001b[39m, y\u001b[38;5;241m=\u001b[39m\u001b[38;5;124m'\u001b[39m\u001b[38;5;124mlog2FoldChange\u001b[39m\u001b[38;5;124m'\u001b[39m, ax\u001b[38;5;241m=\u001b[39maxs[\u001b[38;5;241m1\u001b[39m],  size\u001b[38;5;241m=\u001b[39m\u001b[38;5;241m3\u001b[39m, color\u001b[38;5;241m=\u001b[39m\u001b[38;5;124m'\u001b[39m\u001b[38;5;124mdimgrey\u001b[39m\u001b[38;5;124m'\u001b[39m)\n",
      "File \u001b[0;32m~/anaconda3/lib/python3.11/site-packages/seaborn/categorical.py:2250\u001b[0m, in \u001b[0;36mswarmplot\u001b[0;34m(data, x, y, hue, order, hue_order, dodge, orient, color, palette, size, edgecolor, linewidth, hue_norm, log_scale, native_scale, formatter, legend, warn_thresh, ax, **kwargs)\u001b[0m\n\u001b[1;32m   2242\u001b[0m     linewidth \u001b[38;5;241m=\u001b[39m size \u001b[38;5;241m/\u001b[39m \u001b[38;5;241m10\u001b[39m\n\u001b[1;32m   2244\u001b[0m kwargs\u001b[38;5;241m.\u001b[39mupdate(\u001b[38;5;28mdict\u001b[39m(\n\u001b[1;32m   2245\u001b[0m     s\u001b[38;5;241m=\u001b[39msize \u001b[38;5;241m*\u001b[39m\u001b[38;5;241m*\u001b[39m \u001b[38;5;241m2\u001b[39m,\n\u001b[1;32m   2246\u001b[0m     edgecolor\u001b[38;5;241m=\u001b[39medgecolor,\n\u001b[1;32m   2247\u001b[0m     linewidth\u001b[38;5;241m=\u001b[39mlinewidth,\n\u001b[1;32m   2248\u001b[0m ))\n\u001b[0;32m-> 2250\u001b[0m \u001b[43mp\u001b[49m\u001b[38;5;241;43m.\u001b[39;49m\u001b[43mplot_swarms\u001b[49m\u001b[43m(\u001b[49m\n\u001b[1;32m   2251\u001b[0m \u001b[43m    \u001b[49m\u001b[43mdodge\u001b[49m\u001b[38;5;241;43m=\u001b[39;49m\u001b[43mdodge\u001b[49m\u001b[43m,\u001b[49m\n\u001b[1;32m   2252\u001b[0m \u001b[43m    \u001b[49m\u001b[43mcolor\u001b[49m\u001b[38;5;241;43m=\u001b[39;49m\u001b[43mcolor\u001b[49m\u001b[43m,\u001b[49m\n\u001b[1;32m   2253\u001b[0m \u001b[43m    \u001b[49m\u001b[43mwarn_thresh\u001b[49m\u001b[38;5;241;43m=\u001b[39;49m\u001b[43mwarn_thresh\u001b[49m\u001b[43m,\u001b[49m\n\u001b[1;32m   2254\u001b[0m \u001b[43m    \u001b[49m\u001b[43mplot_kws\u001b[49m\u001b[38;5;241;43m=\u001b[39;49m\u001b[43mkwargs\u001b[49m\u001b[43m,\u001b[49m\n\u001b[1;32m   2255\u001b[0m \u001b[43m\u001b[49m\u001b[43m)\u001b[49m\n\u001b[1;32m   2257\u001b[0m p\u001b[38;5;241m.\u001b[39m_add_axis_labels(ax)\n\u001b[1;32m   2258\u001b[0m p\u001b[38;5;241m.\u001b[39m_adjust_cat_axis(ax, axis\u001b[38;5;241m=\u001b[39mp\u001b[38;5;241m.\u001b[39morient)\n",
      "File \u001b[0;32m~/anaconda3/lib/python3.11/site-packages/seaborn/categorical.py:588\u001b[0m, in \u001b[0;36m_CategoricalPlotter.plot_swarms\u001b[0;34m(self, dodge, color, warn_thresh, plot_kws)\u001b[0m\n\u001b[1;32m    584\u001b[0m             \u001b[38;5;28msuper\u001b[39m(points\u001b[38;5;241m.\u001b[39m\u001b[38;5;18m__class__\u001b[39m, points)\u001b[38;5;241m.\u001b[39mdraw(renderer)\n\u001b[1;32m    586\u001b[0m         points\u001b[38;5;241m.\u001b[39mdraw \u001b[38;5;241m=\u001b[39m draw\u001b[38;5;241m.\u001b[39m\u001b[38;5;21m__get__\u001b[39m(points)\n\u001b[0;32m--> 588\u001b[0m \u001b[43m_draw_figure\u001b[49m\u001b[43m(\u001b[49m\u001b[43max\u001b[49m\u001b[38;5;241;43m.\u001b[39;49m\u001b[43mfigure\u001b[49m\u001b[43m)\u001b[49m\n\u001b[1;32m    589\u001b[0m \u001b[38;5;28mself\u001b[39m\u001b[38;5;241m.\u001b[39m_configure_legend(ax, _scatter_legend_artist, plot_kws)\n",
      "File \u001b[0;32m~/anaconda3/lib/python3.11/site-packages/seaborn/utils.py:61\u001b[0m, in \u001b[0;36m_draw_figure\u001b[0;34m(fig)\u001b[0m\n\u001b[1;32m     59\u001b[0m \u001b[38;5;250m\u001b[39m\u001b[38;5;124;03m\"\"\"Force draw of a matplotlib figure, accounting for back-compat.\"\"\"\u001b[39;00m\n\u001b[1;32m     60\u001b[0m \u001b[38;5;66;03m# See https://github.com/matplotlib/matplotlib/issues/19197 for context\u001b[39;00m\n\u001b[0;32m---> 61\u001b[0m \u001b[43mfig\u001b[49m\u001b[38;5;241;43m.\u001b[39;49m\u001b[43mcanvas\u001b[49m\u001b[38;5;241;43m.\u001b[39;49m\u001b[43mdraw\u001b[49m\u001b[43m(\u001b[49m\u001b[43m)\u001b[49m\n\u001b[1;32m     62\u001b[0m \u001b[38;5;28;01mif\u001b[39;00m fig\u001b[38;5;241m.\u001b[39mstale:\n\u001b[1;32m     63\u001b[0m     \u001b[38;5;28;01mtry\u001b[39;00m:\n",
      "File \u001b[0;32m~/anaconda3/lib/python3.11/site-packages/matplotlib/backends/backend_agg.py:387\u001b[0m, in \u001b[0;36mFigureCanvasAgg.draw\u001b[0;34m(self)\u001b[0m\n\u001b[1;32m    384\u001b[0m \u001b[38;5;66;03m# Acquire a lock on the shared font cache.\u001b[39;00m\n\u001b[1;32m    385\u001b[0m \u001b[38;5;28;01mwith\u001b[39;00m (\u001b[38;5;28mself\u001b[39m\u001b[38;5;241m.\u001b[39mtoolbar\u001b[38;5;241m.\u001b[39m_wait_cursor_for_draw_cm() \u001b[38;5;28;01mif\u001b[39;00m \u001b[38;5;28mself\u001b[39m\u001b[38;5;241m.\u001b[39mtoolbar\n\u001b[1;32m    386\u001b[0m       \u001b[38;5;28;01melse\u001b[39;00m nullcontext()):\n\u001b[0;32m--> 387\u001b[0m     \u001b[38;5;28;43mself\u001b[39;49m\u001b[38;5;241;43m.\u001b[39;49m\u001b[43mfigure\u001b[49m\u001b[38;5;241;43m.\u001b[39;49m\u001b[43mdraw\u001b[49m\u001b[43m(\u001b[49m\u001b[38;5;28;43mself\u001b[39;49m\u001b[38;5;241;43m.\u001b[39;49m\u001b[43mrenderer\u001b[49m\u001b[43m)\u001b[49m\n\u001b[1;32m    388\u001b[0m     \u001b[38;5;66;03m# A GUI class may be need to update a window using this draw, so\u001b[39;00m\n\u001b[1;32m    389\u001b[0m     \u001b[38;5;66;03m# don't forget to call the superclass.\u001b[39;00m\n\u001b[1;32m    390\u001b[0m     \u001b[38;5;28msuper\u001b[39m()\u001b[38;5;241m.\u001b[39mdraw()\n",
      "File \u001b[0;32m~/anaconda3/lib/python3.11/site-packages/matplotlib/artist.py:95\u001b[0m, in \u001b[0;36m_finalize_rasterization.<locals>.draw_wrapper\u001b[0;34m(artist, renderer, *args, **kwargs)\u001b[0m\n\u001b[1;32m     93\u001b[0m \u001b[38;5;129m@wraps\u001b[39m(draw)\n\u001b[1;32m     94\u001b[0m \u001b[38;5;28;01mdef\u001b[39;00m \u001b[38;5;21mdraw_wrapper\u001b[39m(artist, renderer, \u001b[38;5;241m*\u001b[39margs, \u001b[38;5;241m*\u001b[39m\u001b[38;5;241m*\u001b[39mkwargs):\n\u001b[0;32m---> 95\u001b[0m     result \u001b[38;5;241m=\u001b[39m \u001b[43mdraw\u001b[49m\u001b[43m(\u001b[49m\u001b[43martist\u001b[49m\u001b[43m,\u001b[49m\u001b[43m \u001b[49m\u001b[43mrenderer\u001b[49m\u001b[43m,\u001b[49m\u001b[43m \u001b[49m\u001b[38;5;241;43m*\u001b[39;49m\u001b[43margs\u001b[49m\u001b[43m,\u001b[49m\u001b[43m \u001b[49m\u001b[38;5;241;43m*\u001b[39;49m\u001b[38;5;241;43m*\u001b[39;49m\u001b[43mkwargs\u001b[49m\u001b[43m)\u001b[49m\n\u001b[1;32m     96\u001b[0m     \u001b[38;5;28;01mif\u001b[39;00m renderer\u001b[38;5;241m.\u001b[39m_rasterizing:\n\u001b[1;32m     97\u001b[0m         renderer\u001b[38;5;241m.\u001b[39mstop_rasterizing()\n",
      "File \u001b[0;32m~/anaconda3/lib/python3.11/site-packages/matplotlib/artist.py:72\u001b[0m, in \u001b[0;36mallow_rasterization.<locals>.draw_wrapper\u001b[0;34m(artist, renderer)\u001b[0m\n\u001b[1;32m     69\u001b[0m     \u001b[38;5;28;01mif\u001b[39;00m artist\u001b[38;5;241m.\u001b[39mget_agg_filter() \u001b[38;5;129;01mis\u001b[39;00m \u001b[38;5;129;01mnot\u001b[39;00m \u001b[38;5;28;01mNone\u001b[39;00m:\n\u001b[1;32m     70\u001b[0m         renderer\u001b[38;5;241m.\u001b[39mstart_filter()\n\u001b[0;32m---> 72\u001b[0m     \u001b[38;5;28;01mreturn\u001b[39;00m \u001b[43mdraw\u001b[49m\u001b[43m(\u001b[49m\u001b[43martist\u001b[49m\u001b[43m,\u001b[49m\u001b[43m \u001b[49m\u001b[43mrenderer\u001b[49m\u001b[43m)\u001b[49m\n\u001b[1;32m     73\u001b[0m \u001b[38;5;28;01mfinally\u001b[39;00m:\n\u001b[1;32m     74\u001b[0m     \u001b[38;5;28;01mif\u001b[39;00m artist\u001b[38;5;241m.\u001b[39mget_agg_filter() \u001b[38;5;129;01mis\u001b[39;00m \u001b[38;5;129;01mnot\u001b[39;00m \u001b[38;5;28;01mNone\u001b[39;00m:\n",
      "File \u001b[0;32m~/anaconda3/lib/python3.11/site-packages/matplotlib/figure.py:3162\u001b[0m, in \u001b[0;36mFigure.draw\u001b[0;34m(self, renderer)\u001b[0m\n\u001b[1;32m   3159\u001b[0m             \u001b[38;5;66;03m# ValueError can occur when resizing a window.\u001b[39;00m\n\u001b[1;32m   3161\u001b[0m     \u001b[38;5;28mself\u001b[39m\u001b[38;5;241m.\u001b[39mpatch\u001b[38;5;241m.\u001b[39mdraw(renderer)\n\u001b[0;32m-> 3162\u001b[0m     \u001b[43mmimage\u001b[49m\u001b[38;5;241;43m.\u001b[39;49m\u001b[43m_draw_list_compositing_images\u001b[49m\u001b[43m(\u001b[49m\n\u001b[1;32m   3163\u001b[0m \u001b[43m        \u001b[49m\u001b[43mrenderer\u001b[49m\u001b[43m,\u001b[49m\u001b[43m \u001b[49m\u001b[38;5;28;43mself\u001b[39;49m\u001b[43m,\u001b[49m\u001b[43m \u001b[49m\u001b[43martists\u001b[49m\u001b[43m,\u001b[49m\u001b[43m \u001b[49m\u001b[38;5;28;43mself\u001b[39;49m\u001b[38;5;241;43m.\u001b[39;49m\u001b[43msuppressComposite\u001b[49m\u001b[43m)\u001b[49m\n\u001b[1;32m   3165\u001b[0m     renderer\u001b[38;5;241m.\u001b[39mclose_group(\u001b[38;5;124m'\u001b[39m\u001b[38;5;124mfigure\u001b[39m\u001b[38;5;124m'\u001b[39m)\n\u001b[1;32m   3166\u001b[0m \u001b[38;5;28;01mfinally\u001b[39;00m:\n",
      "File \u001b[0;32m~/anaconda3/lib/python3.11/site-packages/matplotlib/image.py:132\u001b[0m, in \u001b[0;36m_draw_list_compositing_images\u001b[0;34m(renderer, parent, artists, suppress_composite)\u001b[0m\n\u001b[1;32m    130\u001b[0m \u001b[38;5;28;01mif\u001b[39;00m not_composite \u001b[38;5;129;01mor\u001b[39;00m \u001b[38;5;129;01mnot\u001b[39;00m has_images:\n\u001b[1;32m    131\u001b[0m     \u001b[38;5;28;01mfor\u001b[39;00m a \u001b[38;5;129;01min\u001b[39;00m artists:\n\u001b[0;32m--> 132\u001b[0m         \u001b[43ma\u001b[49m\u001b[38;5;241;43m.\u001b[39;49m\u001b[43mdraw\u001b[49m\u001b[43m(\u001b[49m\u001b[43mrenderer\u001b[49m\u001b[43m)\u001b[49m\n\u001b[1;32m    133\u001b[0m \u001b[38;5;28;01melse\u001b[39;00m:\n\u001b[1;32m    134\u001b[0m     \u001b[38;5;66;03m# Composite any adjacent images together\u001b[39;00m\n\u001b[1;32m    135\u001b[0m     image_group \u001b[38;5;241m=\u001b[39m []\n",
      "File \u001b[0;32m~/anaconda3/lib/python3.11/site-packages/matplotlib/artist.py:72\u001b[0m, in \u001b[0;36mallow_rasterization.<locals>.draw_wrapper\u001b[0;34m(artist, renderer)\u001b[0m\n\u001b[1;32m     69\u001b[0m     \u001b[38;5;28;01mif\u001b[39;00m artist\u001b[38;5;241m.\u001b[39mget_agg_filter() \u001b[38;5;129;01mis\u001b[39;00m \u001b[38;5;129;01mnot\u001b[39;00m \u001b[38;5;28;01mNone\u001b[39;00m:\n\u001b[1;32m     70\u001b[0m         renderer\u001b[38;5;241m.\u001b[39mstart_filter()\n\u001b[0;32m---> 72\u001b[0m     \u001b[38;5;28;01mreturn\u001b[39;00m \u001b[43mdraw\u001b[49m\u001b[43m(\u001b[49m\u001b[43martist\u001b[49m\u001b[43m,\u001b[49m\u001b[43m \u001b[49m\u001b[43mrenderer\u001b[49m\u001b[43m)\u001b[49m\n\u001b[1;32m     73\u001b[0m \u001b[38;5;28;01mfinally\u001b[39;00m:\n\u001b[1;32m     74\u001b[0m     \u001b[38;5;28;01mif\u001b[39;00m artist\u001b[38;5;241m.\u001b[39mget_agg_filter() \u001b[38;5;129;01mis\u001b[39;00m \u001b[38;5;129;01mnot\u001b[39;00m \u001b[38;5;28;01mNone\u001b[39;00m:\n",
      "File \u001b[0;32m~/anaconda3/lib/python3.11/site-packages/matplotlib/axes/_base.py:3143\u001b[0m, in \u001b[0;36m_AxesBase.draw\u001b[0;34m(self, renderer)\u001b[0m\n\u001b[1;32m   3140\u001b[0m \u001b[38;5;28;01mif\u001b[39;00m artists_rasterized:\n\u001b[1;32m   3141\u001b[0m     _draw_rasterized(\u001b[38;5;28mself\u001b[39m\u001b[38;5;241m.\u001b[39mfigure, artists_rasterized, renderer)\n\u001b[0;32m-> 3143\u001b[0m \u001b[43mmimage\u001b[49m\u001b[38;5;241;43m.\u001b[39;49m\u001b[43m_draw_list_compositing_images\u001b[49m\u001b[43m(\u001b[49m\n\u001b[1;32m   3144\u001b[0m \u001b[43m    \u001b[49m\u001b[43mrenderer\u001b[49m\u001b[43m,\u001b[49m\u001b[43m \u001b[49m\u001b[38;5;28;43mself\u001b[39;49m\u001b[43m,\u001b[49m\u001b[43m \u001b[49m\u001b[43martists\u001b[49m\u001b[43m,\u001b[49m\u001b[43m \u001b[49m\u001b[38;5;28;43mself\u001b[39;49m\u001b[38;5;241;43m.\u001b[39;49m\u001b[43mfigure\u001b[49m\u001b[38;5;241;43m.\u001b[39;49m\u001b[43msuppressComposite\u001b[49m\u001b[43m)\u001b[49m\n\u001b[1;32m   3146\u001b[0m renderer\u001b[38;5;241m.\u001b[39mclose_group(\u001b[38;5;124m'\u001b[39m\u001b[38;5;124maxes\u001b[39m\u001b[38;5;124m'\u001b[39m)\n\u001b[1;32m   3147\u001b[0m \u001b[38;5;28mself\u001b[39m\u001b[38;5;241m.\u001b[39mstale \u001b[38;5;241m=\u001b[39m \u001b[38;5;28;01mFalse\u001b[39;00m\n",
      "File \u001b[0;32m~/anaconda3/lib/python3.11/site-packages/matplotlib/image.py:132\u001b[0m, in \u001b[0;36m_draw_list_compositing_images\u001b[0;34m(renderer, parent, artists, suppress_composite)\u001b[0m\n\u001b[1;32m    130\u001b[0m \u001b[38;5;28;01mif\u001b[39;00m not_composite \u001b[38;5;129;01mor\u001b[39;00m \u001b[38;5;129;01mnot\u001b[39;00m has_images:\n\u001b[1;32m    131\u001b[0m     \u001b[38;5;28;01mfor\u001b[39;00m a \u001b[38;5;129;01min\u001b[39;00m artists:\n\u001b[0;32m--> 132\u001b[0m         \u001b[43ma\u001b[49m\u001b[38;5;241;43m.\u001b[39;49m\u001b[43mdraw\u001b[49m\u001b[43m(\u001b[49m\u001b[43mrenderer\u001b[49m\u001b[43m)\u001b[49m\n\u001b[1;32m    133\u001b[0m \u001b[38;5;28;01melse\u001b[39;00m:\n\u001b[1;32m    134\u001b[0m     \u001b[38;5;66;03m# Composite any adjacent images together\u001b[39;00m\n\u001b[1;32m    135\u001b[0m     image_group \u001b[38;5;241m=\u001b[39m []\n",
      "File \u001b[0;32m~/anaconda3/lib/python3.11/site-packages/seaborn/categorical.py:566\u001b[0m, in \u001b[0;36m_CategoricalPlotter.plot_swarms.<locals>.draw\u001b[0;34m(points, renderer, center)\u001b[0m\n\u001b[1;32m    564\u001b[0m \u001b[38;5;28;01mdef\u001b[39;00m \u001b[38;5;21mdraw\u001b[39m(points, renderer, \u001b[38;5;241m*\u001b[39m, center\u001b[38;5;241m=\u001b[39mcenter):\n\u001b[0;32m--> 566\u001b[0m     \u001b[43mbeeswarm\u001b[49m\u001b[43m(\u001b[49m\u001b[43mpoints\u001b[49m\u001b[43m,\u001b[49m\u001b[43m \u001b[49m\u001b[43mcenter\u001b[49m\u001b[43m)\u001b[49m\n\u001b[1;32m    568\u001b[0m     \u001b[38;5;28;01mif\u001b[39;00m \u001b[38;5;28mself\u001b[39m\u001b[38;5;241m.\u001b[39morient \u001b[38;5;241m==\u001b[39m \u001b[38;5;124m\"\u001b[39m\u001b[38;5;124my\u001b[39m\u001b[38;5;124m\"\u001b[39m:\n\u001b[1;32m    569\u001b[0m         scalex \u001b[38;5;241m=\u001b[39m \u001b[38;5;28;01mFalse\u001b[39;00m\n",
      "File \u001b[0;32m~/anaconda3/lib/python3.11/site-packages/seaborn/categorical.py:3263\u001b[0m, in \u001b[0;36mBeeswarm.__call__\u001b[0;34m(self, points, center)\u001b[0m\n\u001b[1;32m   3261\u001b[0m \u001b[38;5;66;03m# Adjust points along the categorical axis to prevent overlaps\u001b[39;00m\n\u001b[1;32m   3262\u001b[0m new_xyr \u001b[38;5;241m=\u001b[39m np\u001b[38;5;241m.\u001b[39mempty_like(orig_xyr)\n\u001b[0;32m-> 3263\u001b[0m new_xyr[sorter] \u001b[38;5;241m=\u001b[39m \u001b[38;5;28;43mself\u001b[39;49m\u001b[38;5;241;43m.\u001b[39;49m\u001b[43mbeeswarm\u001b[49m\u001b[43m(\u001b[49m\u001b[43morig_xyr\u001b[49m\u001b[43m)\u001b[49m\n\u001b[1;32m   3265\u001b[0m \u001b[38;5;66;03m# Transform the point coordinates back to data coordinates\u001b[39;00m\n\u001b[1;32m   3266\u001b[0m \u001b[38;5;28;01mif\u001b[39;00m \u001b[38;5;28mself\u001b[39m\u001b[38;5;241m.\u001b[39morient \u001b[38;5;241m==\u001b[39m \u001b[38;5;124m\"\u001b[39m\u001b[38;5;124my\u001b[39m\u001b[38;5;124m\"\u001b[39m:\n",
      "File \u001b[0;32m~/anaconda3/lib/python3.11/site-packages/seaborn/categorical.py:3299\u001b[0m, in \u001b[0;36mBeeswarm.beeswarm\u001b[0;34m(self, orig_xyr)\u001b[0m\n\u001b[1;32m   3294\u001b[0m \u001b[38;5;66;03m# Loop over the remaining points\u001b[39;00m\n\u001b[1;32m   3295\u001b[0m \u001b[38;5;28;01mfor\u001b[39;00m xyr_i \u001b[38;5;129;01min\u001b[39;00m orig_xyr[\u001b[38;5;241m1\u001b[39m:]:\n\u001b[1;32m   3296\u001b[0m \n\u001b[1;32m   3297\u001b[0m     \u001b[38;5;66;03m# Find the points in the swarm that could possibly\u001b[39;00m\n\u001b[1;32m   3298\u001b[0m     \u001b[38;5;66;03m# overlap with the point we are currently placing\u001b[39;00m\n\u001b[0;32m-> 3299\u001b[0m     neighbors \u001b[38;5;241m=\u001b[39m \u001b[38;5;28;43mself\u001b[39;49m\u001b[38;5;241;43m.\u001b[39;49m\u001b[43mcould_overlap\u001b[49m\u001b[43m(\u001b[49m\u001b[43mxyr_i\u001b[49m\u001b[43m,\u001b[49m\u001b[43m \u001b[49m\u001b[43mswarm\u001b[49m\u001b[43m)\u001b[49m\n\u001b[1;32m   3301\u001b[0m     \u001b[38;5;66;03m# Find positions that would be valid individually\u001b[39;00m\n\u001b[1;32m   3302\u001b[0m     \u001b[38;5;66;03m# with respect to each of the swarm neighbors\u001b[39;00m\n\u001b[1;32m   3303\u001b[0m     candidates \u001b[38;5;241m=\u001b[39m \u001b[38;5;28mself\u001b[39m\u001b[38;5;241m.\u001b[39mposition_candidates(xyr_i, neighbors)\n",
      "File \u001b[0;32m~/anaconda3/lib/python3.11/site-packages/seaborn/categorical.py:3324\u001b[0m, in \u001b[0;36mBeeswarm.could_overlap\u001b[0;34m(self, xyr_i, swarm)\u001b[0m\n\u001b[1;32m   3322\u001b[0m neighbors \u001b[38;5;241m=\u001b[39m []\n\u001b[1;32m   3323\u001b[0m \u001b[38;5;28;01mfor\u001b[39;00m xyr_j \u001b[38;5;129;01min\u001b[39;00m \u001b[38;5;28mreversed\u001b[39m(swarm):\n\u001b[0;32m-> 3324\u001b[0m     _, y_j, r_j \u001b[38;5;241m=\u001b[39m xyr_j\n\u001b[1;32m   3325\u001b[0m     \u001b[38;5;28;01mif\u001b[39;00m (y_i \u001b[38;5;241m-\u001b[39m y_j) \u001b[38;5;241m<\u001b[39m (r_i \u001b[38;5;241m+\u001b[39m r_j):\n\u001b[1;32m   3326\u001b[0m         neighbors\u001b[38;5;241m.\u001b[39mappend(xyr_j)\n",
      "File \u001b[0;32m~/anaconda3/lib/python3.11/site-packages/numpy/ma/core.py:3266\u001b[0m, in \u001b[0;36mMaskedArray.__getitem__\u001b[0;34m(self, indx)\u001b[0m\n\u001b[1;32m   3263\u001b[0m \u001b[38;5;28;01melse\u001b[39;00m:\n\u001b[1;32m   3264\u001b[0m     \u001b[38;5;66;03m# attempt to apply the heuristic to avoid constructing a full mask\u001b[39;00m\n\u001b[1;32m   3265\u001b[0m     mout \u001b[38;5;241m=\u001b[39m nomask\n\u001b[0;32m-> 3266\u001b[0m     scalar_expected \u001b[38;5;241m=\u001b[39m _scalar_heuristic(\u001b[38;5;28;43mself\u001b[39;49m\u001b[38;5;241;43m.\u001b[39;49m\u001b[43mdata\u001b[49m, dout)\n\u001b[1;32m   3267\u001b[0m     \u001b[38;5;28;01mif\u001b[39;00m scalar_expected \u001b[38;5;129;01mis\u001b[39;00m \u001b[38;5;28;01mNone\u001b[39;00m:\n\u001b[1;32m   3268\u001b[0m         \u001b[38;5;66;03m# heuristics have failed\u001b[39;00m\n\u001b[1;32m   3269\u001b[0m         \u001b[38;5;66;03m# construct a full array, so we can be certain. This is costly.\u001b[39;00m\n\u001b[1;32m   3270\u001b[0m         \u001b[38;5;66;03m# we could also fall back on ndarray.__getitem__(self.data, indx)\u001b[39;00m\n\u001b[1;32m   3271\u001b[0m         scalar_expected \u001b[38;5;241m=\u001b[39m _is_scalar(getmaskarray(\u001b[38;5;28mself\u001b[39m)[indx])\n",
      "File \u001b[0;32m~/anaconda3/lib/python3.11/site-packages/numpy/ma/core.py:3692\u001b[0m, in \u001b[0;36mMaskedArray._get_data\u001b[0;34m(self)\u001b[0m\n\u001b[1;32m   3689\u001b[0m \u001b[38;5;250m    \u001b[39m\u001b[38;5;124;03m\"\"\" Class of the underlying data (read-only). \"\"\"\u001b[39;00m\n\u001b[1;32m   3690\u001b[0m     \u001b[38;5;28;01mreturn\u001b[39;00m \u001b[38;5;28mself\u001b[39m\u001b[38;5;241m.\u001b[39m_baseclass\n\u001b[0;32m-> 3692\u001b[0m \u001b[38;5;28;01mdef\u001b[39;00m \u001b[38;5;21m_get_data\u001b[39m(\u001b[38;5;28mself\u001b[39m):\n\u001b[1;32m   3693\u001b[0m \u001b[38;5;250m    \u001b[39m\u001b[38;5;124;03m\"\"\"\u001b[39;00m\n\u001b[1;32m   3694\u001b[0m \u001b[38;5;124;03m    Returns the underlying data, as a view of the masked array.\u001b[39;00m\n\u001b[1;32m   3695\u001b[0m \n\u001b[0;32m   (...)\u001b[0m\n\u001b[1;32m   3705\u001b[0m \u001b[38;5;124;03m    attribute.\u001b[39;00m\n\u001b[1;32m   3706\u001b[0m \u001b[38;5;124;03m    \"\"\"\u001b[39;00m\n\u001b[1;32m   3707\u001b[0m     \u001b[38;5;28;01mreturn\u001b[39;00m ndarray\u001b[38;5;241m.\u001b[39mview(\u001b[38;5;28mself\u001b[39m, \u001b[38;5;28mself\u001b[39m\u001b[38;5;241m.\u001b[39m_baseclass)\n",
      "\u001b[0;31mKeyboardInterrupt\u001b[0m: "
     ]
    },
    {
     "ename": "",
     "evalue": "",
     "output_type": "error",
     "traceback": [
      "\u001b[1;31mCannot execute code, session has been disposed. Please try restarting the Kernel."
     ]
    },
    {
     "ename": "",
     "evalue": "",
     "output_type": "error",
     "traceback": [
      "\u001b[1;31mCannot execute code, session has been disposed. Please try restarting the Kernel. \n",
      "\u001b[1;31mView Jupyter <a href='command:jupyter.viewOutput'>log</a> for further details."
     ]
    }
   ],
   "source": [
    "import pandas as pd\n",
    "import matplotlib.pyplot as plt\n",
    "import seaborn as sns\n",
    "import numpy\n",
    "from scipy.stats import mannwhitneyu\n",
    "\n",
    "def plot(common, unique):\n",
    "    # Read CSV files\n",
    "    common_df = pd.read_csv(common)\n",
    "    unique_df = pd.read_csv(unique)\n",
    "\n",
    "    # Label the data\n",
    "    common_df['Label'] = 'Common'\n",
    "    unique_df['Label'] = 'Unique'\n",
    "\n",
    "    # Filter data based on Annotation\n",
    "    common_promoter_df = common_df[common_df['Annotation'] == 'Promoter']\n",
    "    common_intron_df = common_df[common_df['Annotation'] == 'Intron']\n",
    "    common_intergenic_df = common_df[common_df['Annotation'] == 'Intergenic']\n",
    "\n",
    "    unique_promoter_df = unique_df[unique_df['Annotation'] == 'Promoter']\n",
    "    unique_intron_df = unique_df[unique_df['Annotation'] == 'Intron']\n",
    "    unique_intergenic_df = unique_df[unique_df['Annotation'] == 'Intergenic']\n",
    "\n",
    "    # Merge common and unique data\n",
    "    promoter_df = pd.concat([common_promoter_df, unique_promoter_df], ignore_index=True)\n",
    "    intron_df = pd.concat([common_intron_df, unique_intron_df], ignore_index=True)\n",
    "    intergenic_df = pd.concat([common_intergenic_df, unique_intergenic_df], ignore_index=True)\n",
    "\n",
    "    # Initialize the figure\n",
    "    fig, axs = plt.subplots(nrows=1, ncols=3, sharey=True, figsize=(16, 10))\n",
    "    sns.set_style('darkgrid')\n",
    "    palette = {'Common': 'skyblue', 'Unique': 'salmon'}\n",
    "\n",
    "    # Create violin plots\n",
    "    sns.violinplot(data=promoter_df,  x='Label', y='log2FoldChange', ax=axs[0], inner='quartile', palette=palette)\n",
    "    #sns.swarmplot(data=promoter_df,  x='Label', y='log2FoldChange', ax=axs[0], size=3, color='dimgrey')\n",
    "    sns.violinplot(data=intergenic_df,  x='Label', y='log2FoldChange', ax=axs[1], inner='quartile',  palette=palette)\n",
    "    #sns.swarmplot(data=intergenic_df,  x='Label', y='log2FoldChange', ax=axs[1],  size=3, color='dimgrey')\n",
    "    sns.violinplot(data=intron_df,  x='Label', y='log2FoldChange', ax=axs[2], inner='quartile', palette=palette)\n",
    "    #sns.swarmplot(data=intron_df,  x='Label', y='log2FoldChange', ax=axs[2], size=3, color='dimgrey')\n",
    "\n",
    "    # Perform statistical tests and annotate plots\n",
    "    def add_stat_annotation(ax, data):\n",
    "        commons = data[data['Label'] == 'Common']['log2FoldChange']\n",
    "        uniques = data[data['Label'] == 'Unique']['log2FoldChange']\n",
    "        \n",
    "        stat, p = mannwhitneyu(commons, uniques)\n",
    "        if p < 0.05:\n",
    "            star = f'*, p = {p:.4f}'\n",
    "        elif p < 0.01:\n",
    "            star = f'**, p = {p:.4f}'\n",
    "        elif p < 0.001:\n",
    "            star = f'***, p = {p:.4f}'\n",
    "        elif p < 0.0001:\n",
    "            star = f'****, p = {p:.4f}'\n",
    "        else:\n",
    "            star = f'n.s, p = {p:.4f}'\n",
    "        \n",
    "        ax.text(0.5, 0.95, star, ha='center', va='center', transform=ax.transAxes, fontsize=12, color='red')\n",
    "\n",
    "    # Set titles and labels\n",
    "    axs[0].set_title('Promoter')\n",
    "    axs[1].set_title('Intergenic')\n",
    "    axs[2].set_title('Intron')\n",
    "    plt.rcParams[\"font.family\"] = \"sans-serif\"\n",
    "    plt.rcParams[\"font.sans-serif\"] = [\"Arial\"]\n",
    "    plt.rcParams.update({'font.size': 12})\n",
    "    plt.axhline(0, color='gray', linewidth=0.5, linestyle='--')\n",
    "\n",
    "    add_stat_annotation(axs[0], promoter_df)\n",
    "    add_stat_annotation(axs[1], intergenic_df)\n",
    "    add_stat_annotation(axs[2], intron_df)\n",
    "\n",
    "    fig.suptitle('RNA-seq Log2(FC) across Genomic Regions')\n",
    "    plt.tight_layout()\n",
    "    plt.show()\n",
    "\n",
    "plot('siBAZ2B_common_rna_seq_overlap.csv', 'siBAZ2B_unique_rna_seq_overlap.csv')"
   ]
  }
 ],
 "metadata": {
  "kernelspec": {
   "display_name": "Python 3",
   "language": "python",
   "name": "python3"
  },
  "language_info": {
   "codemirror_mode": {
    "name": "ipython",
    "version": 3
   },
   "file_extension": ".py",
   "mimetype": "text/x-python",
   "name": "python",
   "nbconvert_exporter": "python",
   "pygments_lexer": "ipython3",
   "version": "3.11.9"
  }
 },
 "nbformat": 4,
 "nbformat_minor": 2
}
